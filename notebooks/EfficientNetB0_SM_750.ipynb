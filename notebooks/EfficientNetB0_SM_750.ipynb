{
 "cells": [
  {
   "cell_type": "code",
   "execution_count": 1,
   "metadata": {
    "colab": {
     "base_uri": "https://localhost:8080/"
    },
    "executionInfo": {
     "elapsed": 8666,
     "status": "ok",
     "timestamp": 1711049772681,
     "user": {
      "displayName": "Nikolai Ropa",
      "userId": "05198058582769450594"
     },
     "user_tz": -60
    },
    "id": "QDn3pUH1GTxI",
    "outputId": "a1b9c887-07a0-4769-f580-7c61d7d8dc74"
   },
   "outputs": [
    {
     "name": "stderr",
     "output_type": "stream",
     "text": [
      "/var/folders/4q/2gx41lk113d_z9tsh7fj9_vh0000gn/T/ipykernel_83333/2983458988.py:18: DeprecationWarning: `import kerastuner` is deprecated, please use `import keras_tuner`.\n",
      "  from kerastuner.tuners import RandomSearch\n"
     ]
    }
   ],
   "source": [
    "import pickle\n",
    "import os\n",
    "import numpy as np\n",
    "import pandas as pd\n",
    "import matplotlib.pyplot as plt\n",
    "from sklearn.model_selection import train_test_split\n",
    "from tensorflow.keras.applications.efficientnet import EfficientNetB0, preprocess_input\n",
    "\n",
    "from tensorflow.keras.layers import Dense, GlobalAveragePooling2D,BatchNormalization,Conv2D\n",
    "from tensorflow.keras.models import Model\n",
    "from tensorflow.keras.optimizers import SGD\n",
    "from tensorflow.keras.callbacks import TensorBoard\n",
    "from tensorflow.keras.models import load_model\n",
    "from tensorflow.keras.preprocessing.image import ImageDataGenerator, load_img, img_to_array\n",
    "import tensorflow as tf\n",
    "from tensorflow.keras.models import Sequential\n",
    "from tensorflow.keras.layers import Dense, Flatten\n",
    "from kerastuner.tuners import RandomSearch\n",
    "from tensorflow.keras.callbacks import Callback, EarlyStopping\n",
    "from tensorflow.keras.optimizers import Adam\n",
    "import cv2\n",
    "from tensorflow.keras.preprocessing import image\n",
    "import keras\n",
    "from IPython.display import Image, display\n",
    "import matplotlib as mpl\n",
    "import matplotlib.pyplot as plt\n",
    "from tensorflow.keras.regularizers import l2\n",
    "from tensorflow.keras.layers import Dropout\n",
    "from tensorflow.keras.utils import to_categorical\n",
    "from tensorflow.keras.applications import EfficientNetB0\n",
    "from tensorflow.keras.layers import GlobalAveragePooling2D, Dense\n",
    "from tensorflow.keras.models import Model\n",
    "from kerastuner.tuners import RandomSearch\n",
    "from tensorflow.keras.optimizers import Adam\n",
    "from tensorflow.keras.losses import BinaryCrossentropy\n",
    "from tensorflow.keras.metrics import Accuracy,Recall\n",
    "import numpy as np"
   ]
  },
  {
   "cell_type": "code",
   "execution_count": 3,
   "metadata": {
    "executionInfo": {
     "elapsed": 35232,
     "status": "ok",
     "timestamp": 1711049851576,
     "user": {
      "displayName": "Nikolai Ropa",
      "userId": "05198058582769450594"
     },
     "user_tz": -60
    },
    "id": "f7CefwGXgrNL"
   },
   "outputs": [
    {
     "name": "stdout",
     "output_type": "stream",
     "text": [
      "batch size 96\n"
     ]
    }
   ],
   "source": [
    "# Fonction pour redimensionner, normaliser et prétraiter une image pour EfficientNetB0\n",
    "def preprocess_image_efficientB0(img_path, target_size=(224, 224)):\n",
    "    # Charger l'image depuis le chemin du fichier en couleur\n",
    "    img = cv2.imread(img_path)\n",
    "    # Redimensionner l'image à la taille cible pour EfficientNetB0\n",
    "    img_resized = cv2.resize(img, target_size)\n",
    "    # Prétraiter l'image pour EfficientNetB0\n",
    "    img_preprocessed = preprocess_input(img_resized)\n",
    "    return img_preprocessed\n",
    "\n",
    "# Chemin vers les dossiers contenant les images saines et malades\n",
    "sain_path = \"../../data/raw/datasets/Sain_Malade_750_Dataset_All/Sain\" #0\n",
    "malade_path = \"../../data/raw/datasets/Sain_Malade_750_Dataset_All/Malade\" # 1\n",
    "# :{0: 'Sain', 1: 'Malade'}\n",
    "# Liste pour stocker les données d'images et les étiquettes\n",
    "images_data = []\n",
    "labels = []\n",
    "\n",
    "# Parcours du dossier contenant les images Sain à 0\n",
    "for filename in os.listdir(pas_covid_path):\n",
    "    # Construire le chemin complet de l'image\n",
    "    img_path = os.path.join(pas_covid_path, filename)\n",
    "    # Prétraiter l'image et l'ajouter à la liste des données d'images\n",
    "    images_data.append(preprocess_image_efficientB0(img_path))\n",
    "    # Étiquettez les images \n",
    "    labels.append(0)\n",
    "\n",
    "# Parcours du dossier contenant les images malade et les labelliser à 1\n",
    "for filename in os.listdir(covid_path):\n",
    "    img_path = os.path.join(covid_path, filename)\n",
    "    # Prétraitement de l'image et l'ajouter à la liste des données d'images\n",
    "    images_data.append(preprocess_image_efficientB0(img_path))\n",
    "    # Labelling les images \n",
    "    labels.append(1)\n",
    "\n",
    "# Conversion des données\n",
    "images_data = np.array(images_data)\n",
    "labels = np.array(labels)\n",
    "\n",
    "# Division des données en ensembles d'entraînement et de validation\n",
    "x_train, x_val, y_train, y_val = train_test_split(images_data, labels, test_size=0.2, random_state=1234)\n",
    "\n",
    "# Redivision des données d'entrainement en données d'entrainement et evaluation\n",
    "x_train, x_eval, y_train, y_eval = train_test_split(x_train, y_train, test_size=0.2, random_state=1234)\n",
    "\n",
    "batch=int(len(x_train)/10) # Batch size égal a 10% de la taille des données d'entrainements\n",
    "\n",
    "print(f\"batch size {batch}\")"
   ]
  },
  {
   "cell_type": "code",
   "execution_count": 4,
   "metadata": {
    "colab": {
     "base_uri": "https://localhost:8080/"
    },
    "executionInfo": {
     "elapsed": 3746201,
     "status": "ok",
     "timestamp": 1711062132194,
     "user": {
      "displayName": "Nikolai Ropa",
      "userId": "05198058582769450594"
     },
     "user_tz": -60
    },
    "id": "ajqgB3oW8Xqy",
    "outputId": "5e82e551-6ff5-4342-a15f-f17155a876bb"
   },
   "outputs": [],
   "source": [
    "from keras import regularizers\n",
    "from keras.regularizers import l1\n",
    "\n",
    "# Définition de la fonction de construction de modèle pour Keras Tuner\n",
    "# Keras Tuner: Learning rate, Couche Dense, Dropout et Droupout connect rate spécifique à EfficientNet, et learning rate pour la régularisation\n",
    "def build_model(hp):\n",
    "    # Hyperparamètres à rechercher\n",
    "    learning_rate = hp.Float('learning_rate', min_value=1e-5, max_value=1e-2, sampling='log') # 1\n",
    "    units = hp.Int('units', min_value=32, max_value=512, step=16) # 1\n",
    "    dropout_rate = hp.Float('dropout_rate', min_value=0.0, max_value=0.5, step=0.05) # 1\n",
    "    dropout_connect_rate = hp.Float('dropout_connect_rate', min_value=0.0, max_value=0.5, step=0.05) # 1\n",
    "    l2_lambda = hp.Choice('l2_lambda', values=[1e-3, 1e-4, 1e-5]) # Hyperparamètre pour la régularisation L2\n",
    "    \n",
    "    # Chargement du modèle EfficientNetB0 pré-entraîné\n",
    "    base_model = EfficientNetB0(include_top=False, weights=\"imagenet\", drop_connect_rate=dropout_connect_rate)\n",
    "    # Dégel de toutes les couches de convolution\n",
    "    print(f\"Nombre de couches base_model {len(base_model.layers)}\")\n",
    "    i=0\n",
    "    for layer in base_model.layers:\n",
    "        if isinstance(layer, Conv2D):\n",
    "            layer.trainable = True  # Garde les couches BatchNormalization gelées\n",
    "            i+=1\n",
    "        else:\n",
    "            layer.trainable = False  # Maintient les autres types de couches gelées  \n",
    "    print(f\"{i} Couches dégelées\") \n",
    "    # Ajout des couches supplémentaires\n",
    "    x = base_model.output\n",
    "    x = GlobalAveragePooling2D(name=\"avg_pool\")(x)\n",
    "    x = BatchNormalization()(x)\n",
    "    x = Dense(units, activation='relu', kernel_regularizer=l2(l2_lambda))(x)  # Utilisation de la régularisation L2\n",
    "    \n",
    "    # Ajouter plusieurs couches Dropout\n",
    "    for _ in range(hp.Int('num_dropout_layers', min_value=1, max_value=3)):  # Limite le nombre de couches de dropout à 3 pour prévenir la sous-adaptation 3\n",
    "        x = Dropout(dropout_rate)(x)\n",
    "        x = BatchNormalization()(x) # Amélioration de la stabilité de l'apprentissage\n",
    "    output = Dense(1, activation='sigmoid')(x)\n",
    "\n",
    "    # Création du modèle final\n",
    "    model = Model(inputs=base_model.input, outputs=output)\n",
    "\n",
    "    # Compilation du modèle avec les hyperparamètres\n",
    "    model.compile(optimizer=Adam(learning_rate=learning_rate),\n",
    "                  loss='binary_crossentropy',\n",
    "                  metrics=['accuracy'])\n",
    "    return model"
   ]
  },
  {
   "cell_type": "code",
   "execution_count": 5,
   "metadata": {},
   "outputs": [
    {
     "name": "stdout",
     "output_type": "stream",
     "text": [
      "Trial 5 Complete [00h 02m 44s]\n",
      "\n",
      "Best val_accuracy So Far: 0.9633333086967468\n",
      "Total elapsed time: 00h 55m 10s\n"
     ]
    }
   ],
   "source": [
    "# Early Stopping basé sur la métrique de val accuracy\n",
    "early_stopping = EarlyStopping(\n",
    "    monitor='val_accuracy', \n",
    "    patience=10,  \n",
    "    restore_best_weights=True,  \n",
    "    mode='max'  \n",
    ")\n",
    "\n",
    "# Configuration du tuner d'hyperparamètres RandomSearch\n",
    "tuner = RandomSearch(\n",
    "    build_model,\n",
    "    objective='val_accuracy',  # Objectif d'optimiser la précision de validation\n",
    "    max_trials=5,  \n",
    "    executions_per_trial=1, \n",
    "    directory='EfficientNetB0_SM_750_VA_Filentuned',\n",
    "    project_name='EfficientNetB0_SM_750_VA_Filentuned_PJ'\n",
    ")\n",
    "\n",
    "tuner.search(x_train, y_train, epochs=100, batch_size=batch, validation_data=(x_val, y_val), callbacks=[early_stopping])"
   ]
  },
  {
   "cell_type": "code",
   "execution_count": null,
   "metadata": {},
   "outputs": [],
   "source": [
    "'''\n",
    "RUN BASE SUR VAL_ACCURACY\n",
    "Trial 1 Complete [00h 16m 26s]\n",
    "val_accuracy: 0.9633333086967468\n",
    "\n",
    "Best val_accuracy So Far: 0.9633333086967468\n",
    "Total elapsed time: 00h 16m 26s\n",
    "\n",
    "Search: Running Trial #2\n",
    "\n",
    "Value             |Best Value So Far |Hyperparameter\n",
    "4.2339e-05        |7.8444e-05        |learning_rate\n",
    "416               |496               |units\n",
    "0.45              |0.1               |dropout_rate\n",
    "0.15              |0.35              |dropout_connect_rate\n",
    "0.001             |0.001             |l2_lambda\n",
    "3                 |3                 |num_dropout_layers\n",
    "Trial 4 Complete [00h 07m 13s]\n",
    "val_accuracy: 0.5266666412353516\n",
    "\n",
    "Best val_accuracy So Far: 0.9633333086967468\n",
    "Total elapsed time: 00h 52m 26s\n",
    "\n",
    "Search: Running Trial #5\n",
    "\n",
    "Value             |Best Value So Far |Hyperparameter\n",
    "0.0023062         |7.8444e-05        |learning_rate\n",
    "512               |496               |units\n",
    "0                 |0.1               |dropout_rate\n",
    "0                 |0.35              |dropout_connect_rate\n",
    "0.001             |0.001             |l2_lambda\n",
    "3                 |3                 |num_dropout_layers\n",
    "\n",
    "Trial 5 Complete [00h 02m 44s]\n",
    "\n",
    "Best val_accuracy So Far: 0.9633333086967468\n",
    "Total elapsed time: 00h 55m 10s\n",
    "\n",
    "\n",
    "'''"
   ]
  },
  {
   "cell_type": "code",
   "execution_count": 6,
   "metadata": {
    "executionInfo": {
     "elapsed": 741,
     "status": "ok",
     "timestamp": 1711062165264,
     "user": {
      "displayName": "Nikolai Ropa",
      "userId": "05198058582769450594"
     },
     "user_tz": -60
    },
    "id": "J8OwUfDTZ4CJ"
   },
   "outputs": [
    {
     "name": "stdout",
     "output_type": "stream",
     "text": [
      "Nombre de couches base_model 238\n",
      "65 Couches dégelées\n"
     ]
    }
   ],
   "source": [
    "# Récupérer les meilleurs hyperparamètres\n",
    "best_hp = tuner.get_best_hyperparameters()[0]\n",
    "\n",
    "# Construire le modèle avec les meilleurs hyperparamètres trouvés\n",
    "best_model = tuner.hypermodel.build(best_hp)"
   ]
  },
  {
   "cell_type": "code",
   "execution_count": 7,
   "metadata": {
    "colab": {
     "base_uri": "https://localhost:8080/"
    },
    "executionInfo": {
     "elapsed": 294,
     "status": "ok",
     "timestamp": 1711062171701,
     "user": {
      "displayName": "Nikolai Ropa",
      "userId": "05198058582769450594"
     },
     "user_tz": -60
    },
    "id": "N9YW3XWdZ55f",
    "outputId": "041dd07c-7bf6-473d-fcbe-766458a2288f"
   },
   "outputs": [
    {
     "name": "stdout",
     "output_type": "stream",
     "text": [
      "{'learning_rate': 7.844352457988621e-05, 'units': 496, 'dropout_rate': 0.1, 'dropout_connect_rate': 0.35000000000000003, 'l2_lambda': 0.001, 'num_dropout_layers': 3}\n"
     ]
    }
   ],
   "source": [
    "print(best_hp.values)"
   ]
  },
  {
   "cell_type": "code",
   "execution_count": 8,
   "metadata": {},
   "outputs": [],
   "source": [
    "# {'learning_rate': 7.844352457988621e-05, 'units': 496, 'dropout_rate': 0.1, 'dropout_connect_rate': 0.35000000000000003, 'l2_lambda': 0.001, 'num_dropout_layers': 3}"
   ]
  },
  {
   "cell_type": "code",
   "execution_count": 9,
   "metadata": {},
   "outputs": [],
   "source": [
    "import dill as pickle\n",
    "\n",
    "# Sauvegarder l'objet dans un fichier\n",
    "with open('EfficientNetB0_SM_750_randomsearch.pkl', 'wb') as file:\n",
    "    pickle.dump(tuner, file)\n",
    "#import pickle\n",
    "\n",
    "# Charger l'objet depuis le fichier\n",
    "with open('EfficientNetB0_SM_750_randomsearch.pkl', 'rb') as file:\n",
    "    random_search_loaded = pickle.load(file)\n"
   ]
  },
  {
   "cell_type": "code",
   "execution_count": 10,
   "metadata": {
    "colab": {
     "base_uri": "https://localhost:8080/"
    },
    "executionInfo": {
     "elapsed": 3714854,
     "status": "ok",
     "timestamp": 1711065920432,
     "user": {
      "displayName": "Nikolai Ropa",
      "userId": "05198058582769450594"
     },
     "user_tz": -60
    },
    "id": "Qr94lxLaBdI6",
    "outputId": "699a449b-7bab-44b0-b275-5f6415c60f86",
    "scrolled": true
   },
   "outputs": [
    {
     "name": "stdout",
     "output_type": "stream",
     "text": [
      "Epoch 1/100\n",
      "\u001b[1m10/10\u001b[0m \u001b[32m━━━━━━━━━━━━━━━━━━━━\u001b[0m\u001b[37m\u001b[0m \u001b[1m38s\u001b[0m 3s/step - accuracy: 0.5989 - loss: 1.4697 - val_accuracy: 0.7767 - val_loss: 1.2466\n",
      "Epoch 2/100\n",
      "\u001b[1m10/10\u001b[0m \u001b[32m━━━━━━━━━━━━━━━━━━━━\u001b[0m\u001b[37m\u001b[0m \u001b[1m32s\u001b[0m 3s/step - accuracy: 0.8337 - loss: 1.0904 - val_accuracy: 0.8433 - val_loss: 1.1994\n",
      "Epoch 3/100\n",
      "\u001b[1m10/10\u001b[0m \u001b[32m━━━━━━━━━━━━━━━━━━━━\u001b[0m\u001b[37m\u001b[0m \u001b[1m32s\u001b[0m 3s/step - accuracy: 0.8987 - loss: 0.9582 - val_accuracy: 0.8933 - val_loss: 1.1301\n",
      "Epoch 4/100\n",
      "\u001b[1m10/10\u001b[0m \u001b[32m━━━━━━━━━━━━━━━━━━━━\u001b[0m\u001b[37m\u001b[0m \u001b[1m32s\u001b[0m 3s/step - accuracy: 0.9334 - loss: 0.8899 - val_accuracy: 0.9100 - val_loss: 1.1035\n",
      "Epoch 5/100\n",
      "\u001b[1m10/10\u001b[0m \u001b[32m━━━━━━━━━━━━━━━━━━━━\u001b[0m\u001b[37m\u001b[0m \u001b[1m32s\u001b[0m 3s/step - accuracy: 0.9502 - loss: 0.8459 - val_accuracy: 0.9167 - val_loss: 1.0693\n",
      "Epoch 6/100\n",
      "\u001b[1m10/10\u001b[0m \u001b[32m━━━━━━━━━━━━━━━━━━━━\u001b[0m\u001b[37m\u001b[0m \u001b[1m32s\u001b[0m 3s/step - accuracy: 0.9656 - loss: 0.8176 - val_accuracy: 0.9300 - val_loss: 1.0424\n",
      "Epoch 7/100\n",
      "\u001b[1m10/10\u001b[0m \u001b[32m━━━━━━━━━━━━━━━━━━━━\u001b[0m\u001b[37m\u001b[0m \u001b[1m32s\u001b[0m 3s/step - accuracy: 0.9692 - loss: 0.7879 - val_accuracy: 0.9300 - val_loss: 1.0119\n",
      "Epoch 8/100\n",
      "\u001b[1m10/10\u001b[0m \u001b[32m━━━━━━━━━━━━━━━━━━━━\u001b[0m\u001b[37m\u001b[0m \u001b[1m32s\u001b[0m 3s/step - accuracy: 0.9852 - loss: 0.7603 - val_accuracy: 0.9300 - val_loss: 0.9866\n",
      "Epoch 9/100\n",
      "\u001b[1m10/10\u001b[0m \u001b[32m━━━━━━━━━━━━━━━━━━━━\u001b[0m\u001b[37m\u001b[0m \u001b[1m32s\u001b[0m 3s/step - accuracy: 0.9805 - loss: 0.7567 - val_accuracy: 0.9200 - val_loss: 0.9822\n",
      "Epoch 10/100\n",
      "\u001b[1m10/10\u001b[0m \u001b[32m━━━━━━━━━━━━━━━━━━━━\u001b[0m\u001b[37m\u001b[0m \u001b[1m32s\u001b[0m 3s/step - accuracy: 0.9876 - loss: 0.7452 - val_accuracy: 0.9400 - val_loss: 0.9348\n",
      "Epoch 11/100\n",
      "\u001b[1m10/10\u001b[0m \u001b[32m━━━━━━━━━━━━━━━━━━━━\u001b[0m\u001b[37m\u001b[0m \u001b[1m32s\u001b[0m 3s/step - accuracy: 0.9893 - loss: 0.7421 - val_accuracy: 0.9467 - val_loss: 0.9028\n",
      "Epoch 12/100\n",
      "\u001b[1m10/10\u001b[0m \u001b[32m━━━━━━━━━━━━━━━━━━━━\u001b[0m\u001b[37m\u001b[0m \u001b[1m32s\u001b[0m 3s/step - accuracy: 0.9949 - loss: 0.7162 - val_accuracy: 0.9533 - val_loss: 0.8899\n",
      "Epoch 13/100\n",
      "\u001b[1m10/10\u001b[0m \u001b[32m━━━━━━━━━━━━━━━━━━━━\u001b[0m\u001b[37m\u001b[0m \u001b[1m32s\u001b[0m 3s/step - accuracy: 0.9901 - loss: 0.7144 - val_accuracy: 0.9467 - val_loss: 0.8721\n",
      "Epoch 14/100\n",
      "\u001b[1m10/10\u001b[0m \u001b[32m━━━━━━━━━━━━━━━━━━━━\u001b[0m\u001b[37m\u001b[0m \u001b[1m32s\u001b[0m 3s/step - accuracy: 0.9938 - loss: 0.7037 - val_accuracy: 0.9533 - val_loss: 0.8575\n",
      "Epoch 15/100\n",
      "\u001b[1m10/10\u001b[0m \u001b[32m━━━━━━━━━━━━━━━━━━━━\u001b[0m\u001b[37m\u001b[0m \u001b[1m32s\u001b[0m 3s/step - accuracy: 0.9928 - loss: 0.7062 - val_accuracy: 0.9633 - val_loss: 0.8520\n",
      "Epoch 16/100\n",
      "\u001b[1m10/10\u001b[0m \u001b[32m━━━━━━━━━━━━━━━━━━━━\u001b[0m\u001b[37m\u001b[0m \u001b[1m33s\u001b[0m 3s/step - accuracy: 0.9956 - loss: 0.6931 - val_accuracy: 0.9600 - val_loss: 0.8379\n",
      "Epoch 17/100\n",
      "\u001b[1m10/10\u001b[0m \u001b[32m━━━━━━━━━━━━━━━━━━━━\u001b[0m\u001b[37m\u001b[0m \u001b[1m31s\u001b[0m 3s/step - accuracy: 0.9962 - loss: 0.6903 - val_accuracy: 0.9567 - val_loss: 0.8212\n",
      "Epoch 18/100\n",
      "\u001b[1m10/10\u001b[0m \u001b[32m━━━━━━━━━━━━━━━━━━━━\u001b[0m\u001b[37m\u001b[0m \u001b[1m31s\u001b[0m 3s/step - accuracy: 0.9998 - loss: 0.6790 - val_accuracy: 0.9633 - val_loss: 0.8096\n",
      "Epoch 19/100\n",
      "\u001b[1m10/10\u001b[0m \u001b[32m━━━━━━━━━━━━━━━━━━━━\u001b[0m\u001b[37m\u001b[0m \u001b[1m31s\u001b[0m 3s/step - accuracy: 0.9960 - loss: 0.6791 - val_accuracy: 0.9500 - val_loss: 0.7933\n",
      "Epoch 20/100\n",
      "\u001b[1m10/10\u001b[0m \u001b[32m━━━━━━━━━━━━━━━━━━━━\u001b[0m\u001b[37m\u001b[0m \u001b[1m31s\u001b[0m 3s/step - accuracy: 0.9980 - loss: 0.6738 - val_accuracy: 0.9567 - val_loss: 0.7871\n",
      "Epoch 21/100\n",
      "\u001b[1m10/10\u001b[0m \u001b[32m━━━━━━━━━━━━━━━━━━━━\u001b[0m\u001b[37m\u001b[0m \u001b[1m32s\u001b[0m 3s/step - accuracy: 0.9986 - loss: 0.6709 - val_accuracy: 0.9600 - val_loss: 0.7833\n",
      "Epoch 22/100\n",
      "\u001b[1m10/10\u001b[0m \u001b[32m━━━━━━━━━━━━━━━━━━━━\u001b[0m\u001b[37m\u001b[0m \u001b[1m32s\u001b[0m 3s/step - accuracy: 1.0000 - loss: 0.6623 - val_accuracy: 0.9633 - val_loss: 0.7632\n",
      "Epoch 23/100\n",
      "\u001b[1m10/10\u001b[0m \u001b[32m━━━━━━━━━━━━━━━━━━━━\u001b[0m\u001b[37m\u001b[0m \u001b[1m32s\u001b[0m 3s/step - accuracy: 0.9987 - loss: 0.6587 - val_accuracy: 0.9633 - val_loss: 0.7541\n",
      "Epoch 24/100\n",
      "\u001b[1m10/10\u001b[0m \u001b[32m━━━━━━━━━━━━━━━━━━━━\u001b[0m\u001b[37m\u001b[0m \u001b[1m32s\u001b[0m 3s/step - accuracy: 1.0000 - loss: 0.6520 - val_accuracy: 0.9700 - val_loss: 0.7457\n",
      "Epoch 25/100\n",
      "\u001b[1m10/10\u001b[0m \u001b[32m━━━━━━━━━━━━━━━━━━━━\u001b[0m\u001b[37m\u001b[0m \u001b[1m32s\u001b[0m 3s/step - accuracy: 0.9993 - loss: 0.6500 - val_accuracy: 0.9600 - val_loss: 0.7474\n",
      "Epoch 26/100\n",
      "\u001b[1m10/10\u001b[0m \u001b[32m━━━━━━━━━━━━━━━━━━━━\u001b[0m\u001b[37m\u001b[0m \u001b[1m32s\u001b[0m 3s/step - accuracy: 0.9980 - loss: 0.6488 - val_accuracy: 0.9633 - val_loss: 0.7474\n",
      "Epoch 27/100\n",
      "\u001b[1m10/10\u001b[0m \u001b[32m━━━━━━━━━━━━━━━━━━━━\u001b[0m\u001b[37m\u001b[0m \u001b[1m32s\u001b[0m 3s/step - accuracy: 0.9968 - loss: 0.6477 - val_accuracy: 0.9500 - val_loss: 0.7661\n",
      "Epoch 28/100\n",
      "\u001b[1m10/10\u001b[0m \u001b[32m━━━━━━━━━━━━━━━━━━━━\u001b[0m\u001b[37m\u001b[0m \u001b[1m32s\u001b[0m 3s/step - accuracy: 0.9991 - loss: 0.6375 - val_accuracy: 0.9400 - val_loss: 0.7743\n",
      "Epoch 29/100\n",
      "\u001b[1m10/10\u001b[0m \u001b[32m━━━━━━━━━━━━━━━━━━━━\u001b[0m\u001b[37m\u001b[0m \u001b[1m32s\u001b[0m 3s/step - accuracy: 0.9966 - loss: 0.6375 - val_accuracy: 0.9600 - val_loss: 0.7240\n",
      "Epoch 30/100\n",
      "\u001b[1m10/10\u001b[0m \u001b[32m━━━━━━━━━━━━━━━━━━━━\u001b[0m\u001b[37m\u001b[0m \u001b[1m33s\u001b[0m 3s/step - accuracy: 0.9981 - loss: 0.6323 - val_accuracy: 0.9567 - val_loss: 0.7200\n",
      "Epoch 31/100\n",
      "\u001b[1m10/10\u001b[0m \u001b[32m━━━━━━━━━━━━━━━━━━━━\u001b[0m\u001b[37m\u001b[0m \u001b[1m34s\u001b[0m 3s/step - accuracy: 0.9988 - loss: 0.6257 - val_accuracy: 0.9567 - val_loss: 0.7139\n",
      "Epoch 32/100\n",
      "\u001b[1m10/10\u001b[0m \u001b[32m━━━━━━━━━━━━━━━━━━━━\u001b[0m\u001b[37m\u001b[0m \u001b[1m33s\u001b[0m 3s/step - accuracy: 0.9989 - loss: 0.6189 - val_accuracy: 0.9467 - val_loss: 0.7058\n",
      "Epoch 33/100\n",
      "\u001b[1m10/10\u001b[0m \u001b[32m━━━━━━━━━━━━━━━━━━━━\u001b[0m\u001b[37m\u001b[0m \u001b[1m33s\u001b[0m 3s/step - accuracy: 1.0000 - loss: 0.6135 - val_accuracy: 0.9533 - val_loss: 0.6943\n",
      "Epoch 34/100\n",
      "\u001b[1m10/10\u001b[0m \u001b[32m━━━━━━━━━━━━━━━━━━━━\u001b[0m\u001b[37m\u001b[0m \u001b[1m33s\u001b[0m 3s/step - accuracy: 0.9967 - loss: 0.6219 - val_accuracy: 0.9533 - val_loss: 0.6939\n"
     ]
    }
   ],
   "source": [
    "# Entraîner le modèle avec les meilleurs hyperparamètres trouvés\n",
    "history = best_model.fit(x_train, y_train,\n",
    "                         epochs=100,batch_size=batch,\n",
    "                         validation_data=(x_val, y_val), callbacks=[early_stopping])"
   ]
  },
  {
   "cell_type": "code",
   "execution_count": 11,
   "metadata": {},
   "outputs": [],
   "source": [
    "#Fin 34 epochs/100"
   ]
  },
  {
   "cell_type": "code",
   "execution_count": null,
   "metadata": {},
   "outputs": [],
   "source": [
    "## Metriques"
   ]
  },
  {
   "cell_type": "code",
   "execution_count": 20,
   "metadata": {
    "colab": {
     "base_uri": "https://localhost:8080/",
     "height": 927
    },
    "executionInfo": {
     "elapsed": 968,
     "status": "ok",
     "timestamp": 1711066015600,
     "user": {
      "displayName": "Nikolai Ropa",
      "userId": "05198058582769450594"
     },
     "user_tz": -60
    },
    "id": "5Uw9xzg3J24i",
    "outputId": "b450fedf-2d05-42c4-cd57-fa7af4745df4"
   },
   "outputs": [
    {
     "data": {
      "image/png": "[encoded data removed]",
      "text/plain": [
       "<Figure size 1000x600 with 1 Axes>"
      ]
     },
     "metadata": {},
     "output_type": "display_data"
    },
    {
     "data": {
      "image/png": "[encoded data removed]",
      "text/plain": [
       "<Figure size 1000x600 with 1 Axes>"
      ]
     },
     "metadata": {},
     "output_type": "display_data"
    }
   ],
   "source": [
    "import matplotlib.pyplot as plt\n",
    "\n",
    "# Afficher et sauvegarder l'accuracy en fonction du nombre d'époques\n",
    "plt.figure(figsize=(10, 6))  # Optionnel: Définir la taille de l'image\n",
    "plt.plot(history.history['accuracy'], label='Train Accuracy')\n",
    "plt.plot(history.history['val_accuracy'], label='Validation Accuracy')\n",
    "plt.xlabel('Epochs')\n",
    "plt.ylabel('Accuracy')\n",
    "plt.title('Train and Validation Accuracy')\n",
    "plt.legend()\n",
    "plt.savefig('EfficientNetB0_SM_750_history_accuracy.png')  # Sauvegarde de l'image avant plt.show()\n",
    "plt.show()\n",
    "\n",
    "# Afficher et sauvegarder la perte en fonction du nombre d'époques\n",
    "plt.figure(figsize=(10, 6))  # Optionnel: Définir la taille de l'image\n",
    "plt.plot(history.history['loss'], label='Train Loss')\n",
    "plt.plot(history.history['val_loss'], label='Validation Loss')\n",
    "plt.xlabel('Epochs')\n",
    "plt.ylabel('Loss')\n",
    "plt.title('Train and Validation Loss')\n",
    "plt.legend()\n",
    "plt.savefig('EfficientNetB0_SM_750_history_loss.png')  # Sauvegarde de l'image avant plt.show()\n",
    "plt.show()\n"
   ]
  },
  {
   "cell_type": "code",
   "execution_count": 19,
   "metadata": {
    "colab": {
     "base_uri": "https://localhost:8080/"
    },
    "executionInfo": {
     "elapsed": 987,
     "status": "ok",
     "timestamp": 1711065983709,
     "user": {
      "displayName": "Nikolai Ropa",
      "userId": "05198058582769450594"
     },
     "user_tz": -60
    },
    "id": "wjs_9FisJ3OS",
    "outputId": "333021cf-a651-4ebd-809c-9739e347c4b4"
   },
   "outputs": [
    {
     "name": "stderr",
     "output_type": "stream",
     "text": [
      "WARNING:absl:You are saving your model as an HDF5 file via `model.save()` or `keras.saving.save_model(model)`. This file format is considered legacy. We recommend using instead the native Keras format, e.g. `model.save('my_model.keras')` or `keras.saving.save_model(model, 'my_model.keras')`. \n"
     ]
    }
   ],
   "source": [
    "import pickle\n",
    "import json\n",
    "\n",
    "# Enregistrer le modèle\n",
    "best_model.save('../../data/processed/models/notebooks/EfficientNetB0_SM_750_model.keras')\n",
    "best_model.save('../../data/processed/models/notebooks/EfficientNetB0_SM_750_model.h5')\n",
    "\n",
    "# Enregistrer l'historique\n",
    "with open('../../data/processed/models/notebooks/EfficientNetB0_SM_750_history.pkl', 'wb') as file:\n",
    "    pickle.dump(history.history, file)\n",
    "\n",
    "# Enregistrer les métriques dans un fichier JSON\n",
    "metrics_dict = {\n",
    "    'loss': history.history['loss'],\n",
    "    'accuracy': history.history['accuracy'],\n",
    "    'val_loss': history.history['val_loss'],\n",
    "    'val_accuracy': history.history['val_accuracy']\n",
    "}\n",
    "\n",
    "with open('../../data/processed/models/notebooks/EfficientNetB0_SM_750_metrics.json', 'w') as json_file:\n",
    "    json.dump(metrics_dict, json_file)"
   ]
  },
  {
   "cell_type": "code",
   "execution_count": 14,
   "metadata": {
    "colab": {
     "base_uri": "https://localhost:8080/"
    },
    "executionInfo": {
     "elapsed": 142746,
     "status": "ok",
     "timestamp": 1711066165736,
     "user": {
      "displayName": "Nikolai Ropa",
      "userId": "05198058582769450594"
     },
     "user_tz": -60
    },
    "id": "nSPqCjEWZ-93",
    "outputId": "e201d2f1-ccaf-4f88-b9dd-0126d8b3cb84"
   },
   "outputs": [
    {
     "name": "stdout",
     "output_type": "stream",
     "text": [
      "\u001b[1m10/10\u001b[0m \u001b[32m━━━━━━━━━━━━━━━━━━━━\u001b[0m\u001b[37m\u001b[0m \u001b[1m4s\u001b[0m 348ms/step\n",
      "predictions val [[1.31238566e-03]\n",
      " [3.58434836e-03]\n",
      " [9.35391057e-03]\n",
      " [9.50651526e-01]\n",
      " [5.75413220e-02]\n",
      " [9.98775065e-01]\n",
      " [8.73862486e-03]\n",
      " [9.91553307e-01]\n",
      " [8.85793660e-03]\n",
      " [9.84218657e-01]\n",
      " [9.95559216e-01]\n",
      " [9.75211322e-01]\n",
      " [9.95278597e-01]\n",
      " [8.76058698e-01]\n",
      " [9.89572525e-01]\n",
      " [6.51909351e-01]\n",
      " [9.96429980e-01]\n",
      " [1.58335436e-02]\n",
      " [9.97722924e-01]\n",
      " [9.67342794e-01]\n",
      " [1.44374073e-02]\n",
      " [9.82660532e-01]\n",
      " [2.56537041e-03]\n",
      " [1.54400662e-01]\n",
      " [9.73878622e-01]\n",
      " [9.84725714e-01]\n",
      " [6.66014731e-01]\n",
      " [9.89333034e-01]\n",
      " [9.28052783e-01]\n",
      " [9.97940421e-01]\n",
      " [9.96010542e-01]\n",
      " [1.41386613e-02]\n",
      " [9.99177396e-01]\n",
      " [9.98816371e-01]\n",
      " [3.18600400e-03]\n",
      " [1.30466442e-03]\n",
      " [9.98374641e-01]\n",
      " [1.27322944e-02]\n",
      " [3.88670601e-02]\n",
      " [9.45570227e-03]\n",
      " [9.95195031e-01]\n",
      " [9.36446369e-01]\n",
      " [9.78312373e-01]\n",
      " [4.40732529e-03]\n",
      " [9.95608807e-01]\n",
      " [1.66037440e-01]\n",
      " [9.97648656e-01]\n",
      " [6.07311726e-03]\n",
      " [1.08069915e-03]\n",
      " [9.67225313e-01]\n",
      " [4.25516933e-01]\n",
      " [1.75489351e-01]\n",
      " [1.44349253e-02]\n",
      " [3.94483842e-02]\n",
      " [3.29718232e-01]\n",
      " [4.44647074e-02]\n",
      " [3.96017684e-03]\n",
      " [1.90138072e-02]\n",
      " [9.78655696e-01]\n",
      " [8.85169208e-03]\n",
      " [2.11425335e-03]\n",
      " [4.13940817e-01]\n",
      " [9.98253167e-01]\n",
      " [4.03902540e-03]\n",
      " [3.08193662e-03]\n",
      " [9.96654987e-01]\n",
      " [9.94183898e-01]\n",
      " [9.68730509e-01]\n",
      " [1.29004819e-02]\n",
      " [7.99029600e-03]\n",
      " [9.67524480e-03]\n",
      " [1.28649641e-02]\n",
      " [9.98682797e-01]\n",
      " [7.44507089e-02]\n",
      " [2.48019840e-03]\n",
      " [9.91096377e-01]\n",
      " [8.48206691e-03]\n",
      " [1.60114348e-01]\n",
      " [6.88938005e-03]\n",
      " [7.59908736e-01]\n",
      " [5.49236266e-03]\n",
      " [9.92329776e-01]\n",
      " [1.46720344e-02]\n",
      " [2.23391488e-01]\n",
      " [9.98530090e-02]\n",
      " [1.03187403e-02]\n",
      " [7.69999251e-02]\n",
      " [2.46056775e-03]\n",
      " [1.29502837e-03]\n",
      " [9.97546077e-01]\n",
      " [8.46878707e-01]\n",
      " [4.73740816e-01]\n",
      " [9.86659408e-01]\n",
      " [9.79465067e-01]\n",
      " [7.09217321e-03]\n",
      " [9.87405896e-01]\n",
      " [9.73965943e-01]\n",
      " [4.37090904e-01]\n",
      " [2.07886659e-03]\n",
      " [4.93607610e-01]\n",
      " [9.76067662e-01]\n",
      " [8.90144289e-01]\n",
      " [8.46804678e-01]\n",
      " [9.89184916e-01]\n",
      " [9.94178116e-01]\n",
      " [9.99496102e-01]\n",
      " [5.75228371e-02]\n",
      " [1.15018589e-02]\n",
      " [9.46125329e-01]\n",
      " [9.74629045e-01]\n",
      " [9.99356508e-01]\n",
      " [1.95359625e-03]\n",
      " [8.68355215e-01]\n",
      " [4.34602890e-03]\n",
      " [9.25224364e-01]\n",
      " [1.84413970e-01]\n",
      " [9.80530441e-01]\n",
      " [9.96468246e-01]\n",
      " [9.92126286e-01]\n",
      " [9.99420941e-01]\n",
      " [9.98410285e-01]\n",
      " [2.52918247e-03]\n",
      " [1.32586691e-03]\n",
      " [9.98619735e-01]\n",
      " [1.87581293e-02]\n",
      " [9.86593723e-01]\n",
      " [6.18171871e-01]\n",
      " [1.63641572e-01]\n",
      " [9.93229985e-01]\n",
      " [1.29275545e-02]\n",
      " [4.26927432e-02]\n",
      " [9.98053014e-01]\n",
      " [9.98149097e-01]\n",
      " [9.61070473e-04]\n",
      " [9.41852868e-01]\n",
      " [1.57707725e-02]\n",
      " [4.24383301e-03]\n",
      " [6.29358692e-03]\n",
      " [1.87226236e-02]\n",
      " [9.70003664e-01]\n",
      " [9.96838450e-01]\n",
      " [9.35751975e-01]\n",
      " [9.98747826e-01]\n",
      " [9.56137061e-01]\n",
      " [9.95677523e-03]\n",
      " [6.90986291e-02]\n",
      " [9.91001546e-01]\n",
      " [4.61270809e-02]\n",
      " [9.82779562e-01]\n",
      " [1.28877476e-01]\n",
      " [2.28536334e-02]\n",
      " [9.25512195e-01]\n",
      " [6.64473116e-01]\n",
      " [9.93922234e-01]\n",
      " [9.82969582e-01]\n",
      " [1.47855878e-02]\n",
      " [2.32084408e-01]\n",
      " [5.64735793e-02]\n",
      " [9.97388422e-01]\n",
      " [8.52617493e-04]\n",
      " [8.61092329e-01]\n",
      " [9.93381917e-01]\n",
      " [3.09802294e-01]\n",
      " [2.60070176e-03]\n",
      " [5.04278466e-02]\n",
      " [4.99017358e-01]\n",
      " [1.22359907e-03]\n",
      " [8.70402530e-03]\n",
      " [5.44445068e-02]\n",
      " [8.45145211e-02]\n",
      " [1.06136398e-02]\n",
      " [8.93559635e-01]\n",
      " [9.97300982e-01]\n",
      " [1.15318805e-01]\n",
      " [5.69282658e-02]\n",
      " [9.97375667e-01]\n",
      " [2.65604377e-01]\n",
      " [9.97743487e-01]\n",
      " [1.00580149e-03]\n",
      " [4.47160080e-02]\n",
      " [5.88600636e-02]\n",
      " [9.87159669e-01]\n",
      " [9.06180680e-01]\n",
      " [9.95109499e-01]\n",
      " [8.60136390e-01]\n",
      " [3.09662474e-03]\n",
      " [8.65259647e-01]\n",
      " [3.11866645e-02]\n",
      " [9.86108124e-01]\n",
      " [4.26220987e-03]\n",
      " [9.97793198e-01]\n",
      " [3.57435900e-03]\n",
      " [1.69658160e-03]\n",
      " [2.84557026e-02]\n",
      " [9.98727322e-01]\n",
      " [3.92319709e-02]\n",
      " [6.96739614e-01]\n",
      " [9.18467104e-01]\n",
      " [4.89247680e-01]\n",
      " [4.49982984e-03]\n",
      " [9.65443790e-01]\n",
      " [7.86212027e-01]\n",
      " [1.06378216e-02]\n",
      " [1.55658869e-03]\n",
      " [9.99076664e-01]\n",
      " [1.23636639e-02]\n",
      " [6.04777746e-02]\n",
      " [5.23411930e-02]\n",
      " [7.56000960e-03]\n",
      " [7.39105195e-02]\n",
      " [9.43220496e-01]\n",
      " [4.89364043e-02]\n",
      " [5.66534460e-01]\n",
      " [2.23251013e-03]\n",
      " [2.70342566e-02]\n",
      " [2.53162205e-01]\n",
      " [9.71138775e-01]\n",
      " [9.99241412e-01]\n",
      " [9.91203904e-01]\n",
      " [2.32257461e-03]\n",
      " [3.65634523e-02]\n",
      " [7.05422238e-02]\n",
      " [7.12598264e-01]\n",
      " [9.85721424e-02]\n",
      " [2.55286157e-01]\n",
      " [9.35443044e-01]\n",
      " [2.81042582e-03]\n",
      " [1.91262048e-02]\n",
      " [3.88644814e-01]\n",
      " [4.65015881e-03]\n",
      " [5.02906084e-01]\n",
      " [3.19095398e-03]\n",
      " [9.09715116e-01]\n",
      " [9.58152294e-01]\n",
      " [3.01900115e-02]\n",
      " [9.86932218e-01]\n",
      " [5.62461495e-01]\n",
      " [5.01855882e-03]\n",
      " [9.70958591e-01]\n",
      " [4.31408547e-03]\n",
      " [4.56433408e-02]\n",
      " [9.94821191e-01]\n",
      " [9.95963395e-01]\n",
      " [4.04380634e-02]\n",
      " [2.33265245e-03]\n",
      " [9.98375297e-01]\n",
      " [5.29418793e-03]\n",
      " [1.39552762e-03]\n",
      " [9.24451768e-01]\n",
      " [1.25215016e-03]\n",
      " [9.36836779e-01]\n",
      " [8.81934655e-04]\n",
      " [9.82988656e-01]\n",
      " [9.93571937e-01]\n",
      " [4.93677426e-03]\n",
      " [5.57078049e-03]\n",
      " [3.68212676e-03]\n",
      " [4.84260777e-03]\n",
      " [5.21163736e-03]\n",
      " [9.58621740e-01]\n",
      " [9.70263004e-01]\n",
      " [3.92792979e-03]\n",
      " [4.08879621e-03]\n",
      " [9.89053965e-01]\n",
      " [9.97538209e-01]\n",
      " [9.92952645e-01]\n",
      " [1.25280749e-02]\n",
      " [2.23865453e-02]\n",
      " [9.32080075e-02]\n",
      " [2.50437669e-03]\n",
      " [9.96785760e-01]\n",
      " [9.89584148e-01]\n",
      " [3.79202119e-03]\n",
      " [3.49285337e-03]\n",
      " [9.43859100e-01]\n",
      " [9.99268413e-01]\n",
      " [7.47888684e-01]\n",
      " [7.46682659e-02]\n",
      " [3.42166364e-01]\n",
      " [9.86989379e-01]\n",
      " [9.98798311e-01]\n",
      " [8.26520938e-03]\n",
      " [9.96832073e-01]\n",
      " [6.34987295e-01]\n",
      " [9.99097764e-01]\n",
      " [9.96834755e-01]\n",
      " [9.93672371e-01]\n",
      " [9.85563815e-01]\n",
      " [9.95122731e-01]\n",
      " [2.66472064e-03]\n",
      " [9.15277958e-01]\n",
      " [1.26370490e-01]\n",
      " [9.96494591e-01]\n",
      " [4.92121466e-03]\n",
      " [2.02270299e-02]\n",
      " [9.14121449e-01]\n",
      " [1.46977752e-01]\n",
      " [3.87284812e-03]\n",
      " [1.45460069e-01]\n",
      " [4.97562945e-01]]\n",
      "predicted_classes_val [0 0 0 1 0 1 0 1 0 1 1 1 1 1 1 1 1 0 1 1 0 1 0 0 1 1 1 1 1 1 1 0 1 1 0 0 1\n",
      " 0 0 0 1 1 1 0 1 0 1 0 0 1 0 0 0 0 0 0 0 0 1 0 0 1 1 0 0 1 1 1 0 0 0 0 1 0\n",
      " 0 1 0 0 0 1 0 1 0 0 0 0 0 0 0 1 1 0 1 1 0 1 1 1 0 0 1 1 1 1 1 1 0 0 1 1 1\n",
      " 0 1 0 1 0 1 1 1 1 1 0 0 1 0 1 0 0 1 0 0 1 1 0 1 0 0 0 0 1 1 1 1 1 0 0 1 0\n",
      " 1 0 0 1 1 1 1 0 0 0 1 0 1 1 1 0 0 0 0 0 0 0 0 1 1 0 0 1 0 1 0 0 0 1 1 1 1\n",
      " 0 1 0 1 0 1 0 0 0 1 0 1 1 0 0 1 1 0 0 1 0 0 0 0 1 1 0 1 0 0 0 1 1 1 0 0 0\n",
      " 0 0 0 1 0 0 0 0 1 0 0 1 0 1 1 0 1 0 0 1 1 0 0 1 0 0 1 0 1 0 1 1 0 0 0 0 0\n",
      " 1 1 0 0 1 1 1 0 0 0 0 1 1 0 0 1 1 0 0 0 1 1 0 1 1 1 1 1 1 1 0 1 0 1 0 0 1\n",
      " 0 0 0 1]\n",
      "y_val [0 0 0 1 0 1 0 1 0 1 1 1 1 1 1 1 1 0 1 1 0 1 0 0 1 1 1 1 1 1 1 0 1 1 0 0 1\n",
      " 0 0 0 1 1 1 0 1 0 1 0 0 1 0 0 0 0 0 0 0 0 1 0 0 1 1 0 0 1 1 1 0 0 0 0 1 0\n",
      " 0 1 0 0 0 1 0 1 0 0 0 0 0 0 0 1 1 0 1 1 0 1 1 1 0 0 1 1 1 1 1 1 0 0 1 1 1\n",
      " 0 1 0 1 0 1 1 1 1 1 0 0 1 0 1 0 0 1 0 0 1 1 0 1 0 0 0 0 1 1 1 1 1 0 0 1 0\n",
      " 1 0 0 1 1 1 1 0 0 0 1 0 1 1 1 0 0 0 0 0 0 0 0 1 1 0 0 1 0 1 0 0 0 1 1 1 1\n",
      " 0 1 0 1 0 1 0 0 0 1 0 1 1 0 0 1 1 0 0 1 0 0 0 0 1 1 0 1 0 0 0 1 1 1 0 0 0\n",
      " 0 0 0 1 0 0 0 0 1 0 0 1 0 1 1 0 1 0 0 1 1 0 0 1 0 0 1 0 1 0 1 1 0 0 0 0 0\n",
      " 1 1 0 0 1 1 1 0 0 0 0 1 1 0 0 1 1 0 0 0 1 1 0 1 1 1 1 1 1 1 0 1 0 1 0 0 1\n",
      " 0 0 0 1]\n",
      "Val Accuracy: 1.0\n"
     ]
    },
    {
     "data": {
      "text/plain": [
       "'\\nmetrics_dict={}\\n    y_eval_pred = model.predict(X_eval)\\n    print(\\'----------bin_get_prediction_metrics(model,X_eval,y_eval)-------\\')\\n    print(f\"Y EVAL {y_eval}\")\\n    print(f\"Y EVAL PRED {y_eval_pred}\")\\n    \\n    y_eval_pred = (y_eval > 0.5).astype(int)\\n    print(f\"Y EVAL PRED Binary {y_eval_pred}\")\\n    \\n    average=\"binary\"\\n    # Calcul de la perte\\n    bce = BinaryCrossentropy()\\n    loss = bce(y_eval, y_eval_pred).numpy()\\n\\n    # Calculer la précision\\n    accuracy_s = accuracy_score(y_eval, y_eval_pred)\\n    print(\"Precision/accuracy :\", accuracy_s)\\n    # Affichage de la perte\\n    print(\"Perte (BinaryCrossentropy) :\", loss)\\n    \\n    # Calculer le recall\\n    recall = recall_score(y_eval, y_eval_pred,average=average)\\n    print(\"Recall :\",recall)\\n       \\n    # Calculer le F1-score\\n    f1 = f1_score(y_eval, y_eval_pred,average=average)\\n    print(\"F1-Score :\",f1)  \\n'"
      ]
     },
     "execution_count": 14,
     "metadata": {},
     "output_type": "execute_result"
    }
   ],
   "source": [
    "from sklearn.metrics import accuracy_score\n",
    "from sklearn.metrics import confusion_matrix\n",
    "\n",
    "# Faire des prédictions sur l'ensemble de données de test\n",
    "predictions_val = best_model.predict(x_val)\n",
    "print(f\"predictions val {predictions_val}\")\n",
    "# Convertir les prédictions en classes (si c'est un problème de classification)\n",
    "#predicted_classes = np.argmax(predictions,axis=1)\n",
    "predicted_classes_val = (y_val > 0.5).astype(int)\n",
    "print(f\"predicted_classes_val {predicted_classes_val}\")\n",
    "print(f\"y_val {y_val}\")\n",
    "#y_val_classes = np.argmax(y_val)\n",
    "#print(f\"y_val_classes {y_val_classes}\")\n",
    "# Calculer l'accuracy\n",
    "val_accuracy = np.mean(predicted_classes_val == y_val)\n",
    "\n",
    "print(\"Val Accuracy:\", val_accuracy)\n"
   ]
  },
  {
   "cell_type": "code",
   "execution_count": 21,
   "metadata": {},
   "outputs": [
    {
     "name": "stdout",
     "output_type": "stream",
     "text": [
      "\u001b[1m8/8\u001b[0m \u001b[32m━━━━━━━━━━━━━━━━━━━━\u001b[0m\u001b[37m\u001b[0m \u001b[1m2s\u001b[0m 286ms/step\n",
      "predictions_eval [[5.02086384e-03]\n",
      " [9.94460940e-01]\n",
      " [2.79258471e-03]\n",
      " [7.54172683e-01]\n",
      " [9.91383612e-01]\n",
      " [6.87553547e-03]\n",
      " [9.99518335e-01]\n",
      " [7.27940425e-02]\n",
      " [9.99394119e-01]\n",
      " [9.56084311e-01]\n",
      " [1.36211049e-02]\n",
      " [9.78875220e-01]\n",
      " [9.95308578e-01]\n",
      " [9.99027789e-01]\n",
      " [9.83551145e-01]\n",
      " [6.56072795e-02]\n",
      " [5.83164871e-01]\n",
      " [1.44093141e-01]\n",
      " [9.97408330e-01]\n",
      " [9.87012804e-01]\n",
      " [9.91211593e-01]\n",
      " [1.06922798e-02]\n",
      " [2.63650948e-03]\n",
      " [9.37225223e-01]\n",
      " [1.92738827e-02]\n",
      " [8.32538307e-03]\n",
      " [8.66396189e-01]\n",
      " [9.55177009e-01]\n",
      " [4.29206947e-03]\n",
      " [9.94801939e-01]\n",
      " [9.69763815e-01]\n",
      " [3.70210502e-03]\n",
      " [6.66278740e-03]\n",
      " [9.91831899e-01]\n",
      " [9.59402263e-01]\n",
      " [9.28078592e-01]\n",
      " [9.96465147e-01]\n",
      " [5.39337993e-02]\n",
      " [7.43620982e-03]\n",
      " [9.98246014e-01]\n",
      " [8.46958195e-04]\n",
      " [9.98201013e-01]\n",
      " [1.71417035e-02]\n",
      " [9.94181335e-01]\n",
      " [8.50093067e-01]\n",
      " [9.25036371e-01]\n",
      " [4.54787493e-01]\n",
      " [1.60181783e-02]\n",
      " [7.50226527e-03]\n",
      " [3.30206975e-02]\n",
      " [8.19112062e-01]\n",
      " [9.74770367e-01]\n",
      " [9.05521773e-03]\n",
      " [4.41219285e-03]\n",
      " [9.97826815e-01]\n",
      " [9.90731299e-01]\n",
      " [8.52628518e-03]\n",
      " [5.16701816e-03]\n",
      " [9.22227427e-02]\n",
      " [3.06990951e-01]\n",
      " [2.50927284e-02]\n",
      " [5.43319853e-03]\n",
      " [2.49441937e-01]\n",
      " [9.96646106e-01]\n",
      " [1.03955865e-02]\n",
      " [7.21188448e-03]\n",
      " [4.93905880e-03]\n",
      " [9.97976542e-01]\n",
      " [9.69072640e-01]\n",
      " [2.07619625e-03]\n",
      " [9.38318908e-01]\n",
      " [9.93460178e-01]\n",
      " [9.84743357e-01]\n",
      " [9.72192585e-01]\n",
      " [9.97400224e-01]\n",
      " [1.66215654e-03]\n",
      " [9.85600710e-01]\n",
      " [5.58449142e-03]\n",
      " [9.95675445e-01]\n",
      " [1.63599670e-01]\n",
      " [2.02607252e-02]\n",
      " [3.46208215e-02]\n",
      " [7.91242793e-02]\n",
      " [2.94371117e-02]\n",
      " [4.49879579e-02]\n",
      " [8.95972610e-01]\n",
      " [9.95225072e-01]\n",
      " [6.94876909e-03]\n",
      " [9.10356641e-03]\n",
      " [9.91216779e-01]\n",
      " [1.99681264e-03]\n",
      " [9.80153382e-01]\n",
      " [1.41711542e-02]\n",
      " [9.96334016e-01]\n",
      " [9.98539686e-01]\n",
      " [6.64787274e-03]\n",
      " [6.46658659e-01]\n",
      " [9.98177707e-01]\n",
      " [1.15162261e-01]\n",
      " [9.95580256e-01]\n",
      " [9.90538239e-01]\n",
      " [5.13029750e-04]\n",
      " [2.10796180e-03]\n",
      " [9.33243990e-01]\n",
      " [3.50216627e-01]\n",
      " [7.67999068e-02]\n",
      " [3.70848060e-01]\n",
      " [1.89728588e-01]\n",
      " [9.94300902e-01]\n",
      " [1.03519931e-01]\n",
      " [9.99301016e-01]\n",
      " [5.48867835e-03]\n",
      " [9.81487989e-01]\n",
      " [2.06087261e-01]\n",
      " [3.50459083e-03]\n",
      " [9.87334371e-01]\n",
      " [9.72041368e-01]\n",
      " [9.94882822e-01]\n",
      " [9.82735991e-01]\n",
      " [9.96142387e-01]\n",
      " [4.87869978e-02]\n",
      " [9.99023557e-01]\n",
      " [1.68366998e-01]\n",
      " [1.12169795e-01]\n",
      " [8.79151940e-01]\n",
      " [9.99145627e-01]\n",
      " [2.91762471e-01]\n",
      " [9.95879531e-01]\n",
      " [1.55065591e-02]\n",
      " [9.81506884e-01]\n",
      " [9.88193989e-01]\n",
      " [8.90073299e-01]\n",
      " [9.94874775e-01]\n",
      " [6.02717628e-04]\n",
      " [1.86827723e-02]\n",
      " [7.56293302e-03]\n",
      " [9.98121798e-01]\n",
      " [8.12461078e-01]\n",
      " [9.94697571e-01]\n",
      " [6.78906441e-02]\n",
      " [9.98294413e-01]\n",
      " [4.53195628e-03]\n",
      " [9.30520058e-01]\n",
      " [2.71525164e-03]\n",
      " [9.92116332e-01]\n",
      " [2.04448745e-01]\n",
      " [2.99604493e-03]\n",
      " [9.96781230e-01]\n",
      " [9.90240276e-01]\n",
      " [2.72533711e-04]\n",
      " [1.33009022e-02]\n",
      " [9.99064147e-01]\n",
      " [4.23245737e-03]\n",
      " [1.33998012e-02]\n",
      " [9.92823541e-01]\n",
      " [9.81986523e-01]\n",
      " [9.99114752e-01]\n",
      " [9.98557627e-01]\n",
      " [9.70483363e-01]\n",
      " [1.96316023e-03]\n",
      " [9.99129236e-01]\n",
      " [9.94092107e-01]\n",
      " [9.90438282e-01]\n",
      " [1.49769278e-03]\n",
      " [4.46303487e-02]\n",
      " [3.54087055e-02]\n",
      " [1.29952626e-02]\n",
      " [6.05381420e-03]\n",
      " [7.52634183e-02]\n",
      " [9.93207514e-01]\n",
      " [1.47465263e-02]\n",
      " [1.53981354e-02]\n",
      " [9.97843742e-01]\n",
      " [9.99138713e-01]\n",
      " [9.96746838e-01]\n",
      " [9.68080461e-01]\n",
      " [1.77030787e-01]\n",
      " [5.79031464e-03]\n",
      " [3.50277289e-04]\n",
      " [9.93704736e-01]\n",
      " [3.48820607e-03]\n",
      " [4.39186953e-03]\n",
      " [9.07719254e-01]\n",
      " [9.85083878e-01]\n",
      " [9.86995518e-01]\n",
      " [1.46369115e-01]\n",
      " [8.15016329e-01]\n",
      " [9.99414027e-01]\n",
      " [9.97842371e-01]\n",
      " [7.78744161e-01]\n",
      " [9.89840448e-01]\n",
      " [1.00695074e-01]\n",
      " [5.33188045e-01]\n",
      " [1.01476070e-02]\n",
      " [1.54774740e-01]\n",
      " [1.12445699e-03]\n",
      " [1.32026719e-02]\n",
      " [9.77485120e-01]\n",
      " [7.76345190e-03]\n",
      " [2.62951339e-03]\n",
      " [9.11944151e-01]\n",
      " [9.99114752e-01]\n",
      " [3.57351229e-02]\n",
      " [3.09461472e-03]\n",
      " [9.96759176e-01]\n",
      " [9.95658875e-01]\n",
      " [7.58253455e-01]\n",
      " [9.43609793e-03]\n",
      " [9.69931364e-01]\n",
      " [8.34583916e-05]\n",
      " [1.33173738e-03]\n",
      " [1.08775788e-03]\n",
      " [2.29479093e-03]\n",
      " [1.16752625e-01]\n",
      " [9.85086918e-01]\n",
      " [4.46734630e-04]\n",
      " [5.32340351e-03]\n",
      " [7.75416255e-01]\n",
      " [9.27289248e-01]\n",
      " [5.47427265e-03]\n",
      " [3.99703300e-03]\n",
      " [9.95415926e-01]\n",
      " [1.20588066e-02]\n",
      " [1.96194544e-01]\n",
      " [2.88762785e-02]\n",
      " [1.45477489e-01]\n",
      " [8.01373506e-04]\n",
      " [8.90844941e-01]\n",
      " [9.21723843e-01]\n",
      " [8.47462192e-02]\n",
      " [9.97429848e-01]\n",
      " [1.34776975e-03]\n",
      " [9.66385007e-01]\n",
      " [8.57393141e-04]\n",
      " [9.99353111e-01]\n",
      " [9.98675346e-01]\n",
      " [1.79258697e-02]\n",
      " [1.09308092e-02]\n",
      " [9.74035561e-01]\n",
      " [1.42115587e-02]]\n",
      "predicted_classes_eval [0 1 0 1 1 0 1 0 1 1 0 1 1 1 1 1 0 0 1 1 1 0 0 1 1 0 1 1 0 1 1 0 0 1 1 1 1\n",
      " 0 0 1 0 1 0 1 1 1 0 0 0 0 1 1 0 0 1 1 0 0 0 0 0 0 0 1 0 0 0 1 1 0 1 1 1 1\n",
      " 1 0 1 0 1 0 0 0 0 0 1 1 1 0 0 1 0 1 0 1 1 0 1 1 0 1 1 0 0 1 0 0 0 0 1 0 1\n",
      " 0 1 0 0 1 1 1 1 1 0 1 0 0 1 1 1 1 0 1 1 1 1 0 0 0 1 1 1 0 1 0 1 0 1 1 0 1\n",
      " 1 0 0 1 0 0 1 1 1 1 1 0 1 1 1 0 0 0 0 0 0 1 0 0 1 1 1 1 0 0 0 1 0 0 1 1 1\n",
      " 1 1 1 1 1 1 0 0 0 0 0 0 1 0 0 1 1 0 0 1 1 1 0 1 0 0 0 0 0 1 0 0 1 1 0 0 1\n",
      " 0 0 0 0 0 1 1 0 1 0 1 0 1 1 0 0 1 0]\n",
      "y_eval [0 1 0 1 1 0 1 0 1 1 0 1 1 1 1 1 0 0 1 1 1 0 0 1 1 0 1 1 0 1 1 0 0 1 1 1 1\n",
      " 0 0 1 0 1 0 1 1 1 0 0 0 0 1 1 0 0 1 1 0 0 0 0 0 0 0 1 0 0 0 1 1 0 1 1 1 1\n",
      " 1 0 1 0 1 0 0 0 0 0 1 1 1 0 0 1 0 1 0 1 1 0 1 1 0 1 1 0 0 1 0 0 0 0 1 0 1\n",
      " 0 1 0 0 1 1 1 1 1 0 1 0 0 1 1 1 1 0 1 1 1 1 0 0 0 1 1 1 0 1 0 1 0 1 1 0 1\n",
      " 1 0 0 1 0 0 1 1 1 1 1 0 1 1 1 0 0 0 0 0 0 1 0 0 1 1 1 1 0 0 0 1 0 0 1 1 1\n",
      " 1 1 1 1 1 1 0 0 0 0 0 0 1 0 0 1 1 0 0 1 1 1 0 1 0 0 0 0 0 1 0 0 1 1 0 0 1\n",
      " 0 0 0 0 0 1 1 0 1 0 1 0 1 1 0 0 1 0]\n",
      "EVAL Accuracy: 1.0\n"
     ]
    },
    {
     "data": {
      "text/plain": [
       "'\\nmetrics_dict={}\\n    y_eval_pred = model.predict(X_eval)\\n    print(\\'----------bin_get_prediction_metrics(model,X_eval,y_eval)-------\\')\\n    print(f\"Y EVAL {y_eval}\")\\n    print(f\"Y EVAL PRED {y_eval_pred}\")\\n    \\n    y_eval_pred = (y_eval > 0.5).astype(int)\\n    print(f\"Y EVAL PRED Binary {y_eval_pred}\")\\n    \\n    average=\"binary\"\\n    # Calcul de la perte\\n    bce = BinaryCrossentropy()\\n    loss = bce(y_eval, y_eval_pred).numpy()\\n\\n    # Calculer la précision\\n    accuracy_s = accuracy_score(y_eval, y_eval_pred)\\n    print(\"Precision/accuracy :\", accuracy_s)\\n    # Affichage de la perte\\n    print(\"Perte (BinaryCrossentropy) :\", loss)\\n    \\n    # Calculer le recall\\n    recall = recall_score(y_eval, y_eval_pred,average=average)\\n    print(\"Recall :\",recall)\\n       \\n    # Calculer le F1-score\\n    f1 = f1_score(y_eval, y_eval_pred,average=average)\\n    print(\"F1-Score :\",f1)  \\n'"
      ]
     },
     "execution_count": 21,
     "metadata": {},
     "output_type": "execute_result"
    }
   ],
   "source": [
    "from sklearn.metrics import accuracy_score\n",
    "from sklearn.metrics import confusion_matrix\n",
    "\n",
    "# Faire des prédictions sur l'ensemble de données de test\n",
    "predictions_eval = best_model.predict(x_eval)\n",
    "print(f\"predictions_eval {predictions_eval}\")\n",
    "# Convertir les prédictions en classes (si c'est un problème de classification)\n",
    "#predicted_classes = np.argmax(predictions,axis=1)\n",
    "predicted_classes_eval = (y_eval > 0.5).astype(int)\n",
    "print(f\"predicted_classes_eval {predicted_classes_eval}\")\n",
    "print(f\"y_eval {y_eval}\")\n",
    "#y_val_classes = np.argmax(y_val)\n",
    "#print(f\"y_val_classes {y_val_classes}\")\n",
    "# Calculer l'accuracy\n",
    "eval_accuracy = np.mean(predicted_classes_eval == y_eval)\n",
    "\n",
    "print(\"EVAL Accuracy:\", eval_accuracy)\n"
   ]
  },
  {
   "cell_type": "code",
   "execution_count": 22,
   "metadata": {
    "colab": {
     "base_uri": "https://localhost:8080/",
     "height": 564
    },
    "executionInfo": {
     "elapsed": 933,
     "status": "ok",
     "timestamp": 1711066259980,
     "user": {
      "displayName": "Nikolai Ropa",
      "userId": "05198058582769450594"
     },
     "user_tz": -60
    },
    "id": "5u-8FDprdrEa",
    "outputId": "eea482cd-6d2d-42b6-8518-bf81a17330ed"
   },
   "outputs": [
    {
     "data": {
      "image/png": "[encoded data removed]",
      "text/plain": [
       "<Figure size 800x600 with 1 Axes>"
      ]
     },
     "metadata": {},
     "output_type": "display_data"
    }
   ],
   "source": [
    "from sklearn.metrics import confusion_matrix\n",
    "import seaborn as sns\n",
    "import matplotlib.pyplot as plt\n",
    "\n",
    "# Calculer la matrice de confusion\n",
    "conf_matrix = confusion_matrix(y_eval, predicted_classes_eval)\n",
    "\n",
    "# Afficher la matrice de confusion sous forme de heatmap\n",
    "plt.figure(figsize=(8, 6))\n",
    "sns.heatmap(conf_matrix, annot=True, fmt=\"d\", cmap=\"Blues\", cbar=False,\n",
    "            xticklabels=['Predicted 0 - Sain', 'Predicted 1 - Malade'],\n",
    "            yticklabels=['Actual 0 - Sain', 'Actual 1 - Malade'])\n",
    "plt.xlabel('Predicted label')\n",
    "plt.ylabel('True label')\n",
    "plt.title('Confusion Matrix')\n",
    "\n",
    "# Sauvegarder l'image de la matrice de confusion\n",
    "plt.savefig('EfficientNetB0_SM_750_confusion_matrix.png')  # Sauvegarde de l'image avant plt.show()\n",
    "\n",
    "plt.show()"
   ]
  },
  {
   "cell_type": "markdown",
   "metadata": {
    "id": "TiP2WQSXnuqI"
   },
   "source": [
    "GRAD-CAM"
   ]
  },
  {
   "cell_type": "code",
   "execution_count": 69,
   "metadata": {
    "colab": {
     "base_uri": "https://localhost:8080/",
     "height": 316
    },
    "executionInfo": {
     "elapsed": 501,
     "status": "ok",
     "timestamp": 1711066331757,
     "user": {
      "displayName": "Nikolai Ropa",
      "userId": "05198058582769450594"
     },
     "user_tz": -60
    },
    "id": "XU3vW6ypiYSF",
    "outputId": "cef140cd-823b-4d8f-97e2-5be94d15d0f9"
   },
   "outputs": [
    {
     "data": {
      "image/png": "[encoded data removed]",
      "text/plain": [
       "<IPython.core.display.Image object>"
      ]
     },
     "metadata": {},
     "output_type": "display_data"
    }
   ],
   "source": [
    "model_builder = keras.applications.xception.Xception\n",
    "img_size = (224, 224)\n",
    "#preprocess_input = keras.applications.xception.preprocess_input\n",
    "decode_predictions = keras.applications.xception.decode_predictions\n",
    "\n",
    "last_conv_layer_name = \"top_conv\"\n",
    "\n",
    "# The local path to our target image\n",
    "img_path =('./test_images/COVID-231.png')\n",
    "#{0: 'Viral_Pneumonia', 1: 'Lung_Opacity', 2: 'Normal', 3: 'COVID'}\n",
    "display(Image(img_path))"
   ]
  },
  {
   "cell_type": "code",
   "execution_count": 63,
   "metadata": {
    "executionInfo": {
     "elapsed": 339,
     "status": "ok",
     "timestamp": 1711066334792,
     "user": {
      "displayName": "Nikolai Ropa",
      "userId": "05198058582769450594"
     },
     "user_tz": -60
    },
    "id": "9Dg4ZKB9idAW"
   },
   "outputs": [],
   "source": [
    "def get_img_array(img_path, size):\n",
    "    # `img` is a PIL image of size 299x299\n",
    "    img = keras.utils.load_img(img_path, target_size=size)\n",
    "    # `array` is a float32 Numpy array of shape (299, 299, 3)\n",
    "    array = keras.utils.img_to_array(img)\n",
    "    # We add a dimension to transform our array into a \"batch\"\n",
    "    # of size (1, 299, 299, 3)\n",
    "    array = np.expand_dims(array, axis=0)\n",
    "    return array\n",
    "\n",
    "\n",
    "def make_gradcam_heatmap(img_array, model, last_conv_layer_name, pred_index=None):\n",
    "    # First, we create a model that maps the input image to the activations\n",
    "    # of the last conv layer as well as the output predictions\n",
    "    grad_model = keras.models.Model(\n",
    "        model.inputs, [model.get_layer(last_conv_layer_name).output, model.output]\n",
    "    )\n",
    "\n",
    "    # Then, we compute the gradient of the top predicted class for our input image\n",
    "    # with respect to the activations of the last conv layer\n",
    "    with tf.GradientTape() as tape:\n",
    "        last_conv_layer_output, preds = grad_model(img_array)\n",
    "        if pred_index is None:\n",
    "            pred_index = tf.argmax(preds[0])\n",
    "        class_channel = preds[:, pred_index]\n",
    "\n",
    "    # This is the gradient of the output neuron (top predicted or chosen)\n",
    "    # with regard to the output feature map of the last conv layer\n",
    "    grads = tape.gradient(class_channel, last_conv_layer_output)\n",
    "\n",
    "    # This is a vector where each entry is the mean intensity of the gradient\n",
    "    # over a specific feature map channel\n",
    "    pooled_grads = tf.reduce_mean(grads, axis=(0, 1, 2))\n",
    "\n",
    "    # We multiply each channel in the feature map array\n",
    "    # by \"how important this channel is\" with regard to the top predicted class\n",
    "    # then sum all the channels to obtain the heatmap class activation\n",
    "    last_conv_layer_output = last_conv_layer_output[0]\n",
    "    heatmap = last_conv_layer_output @ pooled_grads[..., tf.newaxis]\n",
    "    heatmap = tf.squeeze(heatmap)\n",
    "\n",
    "    # For visualization purpose, we will also normalize the heatmap between 0 & 1\n",
    "    heatmap = tf.maximum(heatmap, 0) / tf.math.reduce_max(heatmap)\n",
    "    return heatmap.numpy()"
   ]
  },
  {
   "cell_type": "code",
   "execution_count": null,
   "metadata": {},
   "outputs": [],
   "source": [
    "'''\n",
    "def preprocess_image_efficientB0(img_path, target_size=(224, 224)):\n",
    "    # Charger l'image depuis le chemin du fichier en couleur\n",
    "    img = cv2.imread(img_path)\n",
    "    # Redimensionner l'image à la taille cible pour EfficientNetB0\n",
    "    img_resized = cv2.resize(img, target_size)\n",
    "    # Prétraiter l'image pour EfficientNetB0\n",
    "    img_preprocessed = preprocess_input(img_resized)\n",
    "    return img_preprocessed\n",
    "'''\n",
    "\n",
    "model = best_model\n",
    "model.layers[-1].activation = None\n",
    "# Faire des prédictions sur l'ensemble de données de test\n",
    "eval_predictions = model.predict(preprocess_image_efficientB0(img_path))\n",
    "print(f\"predictions {predictions}\")\n",
    "# Convertir les prédictions en classes (si c'est un problème de classification)\n",
    "eval_predicted_classes = np.argmax(eval_predictions,axis=1)\n",
    "print(f\"eval_predicted_classes {eval_predicted_classes}\")\n",
    "print(f\"y_eval {y_eval}\")\n",
    "#y_eval_classes = np.argmax(y_eval)\n",
    "#print(f\"y_eval_classes {y_eval_classes}\")\n",
    "# Calculer l'accuracy\n",
    "eval_accuracy = np.mean(eval_predicted_classes == 3)\n",
    "\n",
    "print(\"EVAL Accuracy:\", eval_accuracy)"
   ]
  },
  {
   "cell_type": "code",
   "execution_count": null,
   "metadata": {
    "colab": {
     "base_uri": "https://localhost:8080/",
     "height": 472
    },
    "executionInfo": {
     "elapsed": 3078,
     "status": "ok",
     "timestamp": 1711066340223,
     "user": {
      "displayName": "Nikolai Ropa",
      "userId": "05198058582769450594"
     },
     "user_tz": -60
    },
    "id": "U6CCfz2gigLp",
    "outputId": "a839b8d9-a816-4605-fe3e-87559a5ec1f8"
   },
   "outputs": [],
   "source": [
    "# Prepare image\n",
    "#img_array = preprocess_input(get_img_array(img_path, size=img_size))\n",
    "img_array=preprocess_image_efficientB0(get_img_array(img_path, size=img_size))\n",
    "# Make model\n",
    "model = best_model\n",
    "\n",
    "# Remove last layer's softmax\n",
    "model.layers[-1].activation = None\n",
    "preds = model.predict(img_array)\n",
    "print(f\"Preds {preds}\")\n",
    "preds_classe = np.argmax(preds,axis=1)\n",
    "print(f\"preds_classe {preds_classe}\")\n",
    "\n",
    "# Generate class activation heatmap\n",
    "heatmap = make_gradcam_heatmap(img_array, model, last_conv_layer_name)\n",
    "\n",
    "########\n",
    "# Display heatmap\n",
    "plt.matshow(heatmap)\n",
    "plt.show()"
   ]
  },
  {
   "cell_type": "code",
   "execution_count": 56,
   "metadata": {
    "colab": {
     "base_uri": "https://localhost:8080/",
     "height": 316
    },
    "executionInfo": {
     "elapsed": 351,
     "status": "ok",
     "timestamp": 1711066343095,
     "user": {
      "displayName": "Nikolai Ropa",
      "userId": "05198058582769450594"
     },
     "user_tz": -60
    },
    "id": "-RHetfqZin9c",
    "outputId": "2629d4aa-9f2b-4c37-8e8c-c11b2ae2cd8d"
   },
   "outputs": [
    {
     "data": {
      "image/jpeg": "[encoded data removed]",
      "text/plain": [
       "<IPython.core.display.Image object>"
      ]
     },
     "metadata": {},
     "output_type": "display_data"
    }
   ],
   "source": [
    "def save_and_display_gradcam(img_path, heatmap, cam_path=\"cam.jpg\", alpha=0.4):\n",
    "    # Load the original image\n",
    "    img = keras.utils.load_img(img_path)\n",
    "    img = keras.utils.img_to_array(img)\n",
    "\n",
    "    # Rescale heatmap to a range 0-255\n",
    "    heatmap = np.uint8(255 * heatmap)\n",
    "\n",
    "    # Use jet colormap to colorize heatmap\n",
    "    jet = mpl.colormaps[\"jet\"]\n",
    "\n",
    "    # Use RGB values of the colormap\n",
    "    jet_colors = jet(np.arange(256))[:, :3]\n",
    "    jet_heatmap = jet_colors[heatmap]\n",
    "\n",
    "    # Create an image with RGB colorized heatmap\n",
    "    jet_heatmap = keras.utils.array_to_img(jet_heatmap)\n",
    "    jet_heatmap = jet_heatmap.resize((img.shape[1], img.shape[0]))\n",
    "    jet_heatmap = keras.utils.img_to_array(jet_heatmap)\n",
    "\n",
    "    # Superimpose the heatmap on original image\n",
    "    superimposed_img = jet_heatmap * alpha + img\n",
    "    superimposed_img = keras.utils.array_to_img(superimposed_img)\n",
    "\n",
    "    # Save the superimposed image\n",
    "    superimposed_img.save(cam_path)\n",
    "\n",
    "    # Display Grad CAM\n",
    "    display(Image(cam_path))\n",
    "\n",
    "\n",
    "save_and_display_gradcam(img_path, heatmap)"
   ]
  },
  {
   "cell_type": "code",
   "execution_count": 59,
   "metadata": {},
   "outputs": [
    {
     "data": {
      "image/png": "[encoded data removed]",
      "text/plain": [
       "<IPython.core.display.Image object>"
      ]
     },
     "metadata": {},
     "output_type": "display_data"
    }
   ],
   "source": [
    "#img_path =('./test_images/COVID-231.png')\n",
    "#img_path =('./test_images/COVID-1525.png')\n",
    "#img_path =('./test_images/Lung_Opacity-408.png')\n",
    "#img_path =('./test_images/Normal-1489.png')\n",
    "img_path =('./test_images/Viral Pneumonia-15.png')\n",
    "#{0: 'Viral_Pneumonia', 1: 'Lung_Opacity', 2: 'Normal', 3: 'COVID'}\n",
    "display(Image(img_path))"
   ]
  },
  {
   "cell_type": "code",
   "execution_count": 60,
   "metadata": {},
   "outputs": [
    {
     "name": "stdout",
     "output_type": "stream",
     "text": [
      "\u001b[1m1/1\u001b[0m \u001b[32m━━━━━━━━━━━━━━━━━━━━\u001b[0m\u001b[37m\u001b[0m \u001b[1m0s\u001b[0m 33ms/step\n",
      "Preds [[-1.2016634 -1.0878725 -3.6434538  8.7449255]]\n",
      "preds_classe [3]\n"
     ]
    },
    {
     "data": {
      "image/png": "[encoded data removed]",
      "text/plain": [
       "<Figure size 480x480 with 1 Axes>"
      ]
     },
     "metadata": {},
     "output_type": "display_data"
    }
   ],
   "source": [
    "# Prepare image\n",
    "img_array = preprocess_input(get_img_array(img_path, size=img_size))\n",
    "\n",
    "# Make model\n",
    "model = best_model\n",
    "\n",
    "# Remove last layer's softmax\n",
    "model.layers[-1].activation = None\n",
    "preds = model.predict(img_array)\n",
    "print(f\"Preds {preds}\")\n",
    "preds_classe = np.argmax(preds,axis=1)\n",
    "print(f\"preds_classe {preds_classe}\")\n",
    "\n",
    "# Generate class activation heatmap\n",
    "heatmap = make_gradcam_heatmap(img_array, model, last_conv_layer_name)\n",
    "\n",
    "########\n",
    "# Display heatmap\n",
    "plt.matshow(heatmap)\n",
    "plt.show()"
   ]
  },
  {
   "cell_type": "code",
   "execution_count": 61,
   "metadata": {},
   "outputs": [
    {
     "data": {
      "image/jpeg": "[encoded data removed]",
      "text/plain": [
       "<IPython.core.display.Image object>"
      ]
     },
     "metadata": {},
     "output_type": "display_data"
    }
   ],
   "source": [
    "def save_and_display_gradcam(img_path, heatmap, cam_path=\"VAI_heatmap.jpg\", alpha=0.4):\n",
    "    # Load the original image\n",
    "    img = keras.utils.load_img(img_path)\n",
    "    img = keras.utils.img_to_array(img)\n",
    "\n",
    "    # Rescale heatmap to a range 0-255\n",
    "    heatmap = np.uint8(255 * heatmap)\n",
    "\n",
    "    # Use jet colormap to colorize heatmap\n",
    "    jet = mpl.colormaps[\"jet\"]\n",
    "\n",
    "    # Use RGB values of the colormap\n",
    "    jet_colors = jet(np.arange(256))[:, :3]\n",
    "    jet_heatmap = jet_colors[heatmap]\n",
    "\n",
    "    # Create an image with RGB colorized heatmap\n",
    "    jet_heatmap = keras.utils.array_to_img(jet_heatmap)\n",
    "    jet_heatmap = jet_heatmap.resize((img.shape[1], img.shape[0]))\n",
    "    jet_heatmap = keras.utils.img_to_array(jet_heatmap)\n",
    "\n",
    "    # Superimpose the heatmap on original image\n",
    "    superimposed_img = jet_heatmap * alpha + img\n",
    "    superimposed_img = keras.utils.array_to_img(superimposed_img)\n",
    "\n",
    "    # Save the superimposed image\n",
    "    superimposed_img.save(cam_path)\n",
    "\n",
    "    # Display Grad CAM\n",
    "    display(Image(cam_path))\n",
    "\n",
    "\n",
    "save_and_display_gradcam(img_path, heatmap)"
   ]
  }
 ],
 "metadata": {
  "colab": {
   "authorship_tag": "ABX9TyPAzjC5AB5zKAX9aXAnNdE7",
   "provenance": []
  },
  "kernelspec": {
   "display_name": "Python 3 (ipykernel)",
   "language": "python",
   "name": "python3"
  },
  "language_info": {
   "codemirror_mode": {
    "name": "ipython",
    "version": 3
   },
   "file_extension": ".py",
   "mimetype": "text/x-python",
   "name": "python",
   "nbconvert_exporter": "python",
   "pygments_lexer": "ipython3",
   "version": "3.12.2"
  }
 },
 "nbformat": 4,
 "nbformat_minor": 4
}
