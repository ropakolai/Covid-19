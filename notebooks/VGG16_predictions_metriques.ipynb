{
 "cells": [
  {
   "cell_type": "markdown",
   "metadata": {
    "id": "51g5pg9khIdw"
   },
   "source": [
    "Importations et montage Google Drive"
   ]
  },
  {
   "cell_type": "code",
   "execution_count": 73,
   "metadata": {
    "colab": {
     "base_uri": "https://localhost:8080/"
    },
    "executionInfo": {
     "elapsed": 2275,
     "status": "ok",
     "timestamp": 1711733791208,
     "user": {
      "displayName": "Nikolai Ropa",
      "userId": "05198058582769450594"
     },
     "user_tz": -60
    },
    "id": "ePHcbje_iGAN",
    "outputId": "3b68b6ae-b1f2-48c0-da6e-c8eff8fc32a4"
   },
   "outputs": [
    {
     "name": "stdout",
     "output_type": "stream",
     "text": [
      "Drive already mounted at /content/drive; to attempt to forcibly remount, call drive.mount(\"/content/drive\", force_remount=True).\n"
     ]
    }
   ],
   "source": [
    "import os\n",
    "import pandas as pd\n",
    "import numpy as np\n",
    "from google.colab import drive\n",
    "import seaborn as sns\n",
    "import random\n",
    "\n",
    "import tensorflow as tf\n",
    "import keras\n",
    "\n",
    "from tqdm import tqdm\n",
    "from sklearn.model_selection import train_test_split\n",
    "from sklearn.metrics import recall_score, f1_score, confusion_matrix,accuracy_score\n",
    "from sklearn.metrics import classification_report\n",
    "from tensorflow.keras.models import load_model\n",
    "from tensorflow.keras.applications.vgg16 import VGG16, preprocess_input\n",
    "\n",
    "\n",
    "import matplotlib.pyplot as plt\n",
    "import matplotlib as mpl\n",
    "from PIL import Image\n",
    "from IPython.display import display\n",
    "%matplotlib inline\n",
    "\n",
    "\n",
    "drive.mount('/content/drive')\n"
   ]
  },
  {
   "cell_type": "markdown",
   "metadata": {
    "id": "vg6vAyPshNYW"
   },
   "source": [
    "Création du dataset"
   ]
  },
  {
   "cell_type": "code",
   "execution_count": 74,
   "metadata": {
    "executionInfo": {
     "elapsed": 314,
     "status": "ok",
     "timestamp": 1711733793873,
     "user": {
      "displayName": "Nikolai Ropa",
      "userId": "05198058582769450594"
     },
     "user_tz": -60
    },
    "id": "9ueeePzliGlf"
   },
   "outputs": [],
   "source": [
    "# Fonction pour obtenir les chemins des images et leurs étiquettes\n",
    "def get_image_paths_and_labels(directory):\n",
    "    file_paths = []\n",
    "    name_labels = []\n",
    "    labels = []\n",
    "\n",
    "    # Parcours des sous-répertoires\n",
    "    for subdir, _, files in os.walk(directory):\n",
    "        for file in files:\n",
    "            # Construction du chemin complet de l'image\n",
    "            file_path = os.path.join(subdir, file)\n",
    "            # Obtention du nom de l'image\n",
    "            name = os.path.splitext(file)[0]\n",
    "            # Extraction de la partie principale du nom de l'image (sans l'extension)\n",
    "            name_label = name.split('-')[0]\n",
    "            # Détermination de l'étiquette\n",
    "            if name_label == 'Normal':\n",
    "                label = 0\n",
    "            else:\n",
    "                label = 1\n",
    "            # Ajout des informations au DataFrame\n",
    "            file_paths.append(file_path)\n",
    "            name_labels.append(name_label)\n",
    "            labels.append(label)\n",
    "\n",
    "    # Création du DataFrame\n",
    "    df = pd.DataFrame({'file_path': file_paths, 'name_label': name_labels, 'label': labels})\n",
    "\n",
    "    return df\n",
    "\n",
    "# Chemins des dossiers \"Sain\" et \"Malade\"\n",
    "healthy_folder = os.path.join('/content/drive/MyDrive/Test_Modelo/Sain')\n",
    "sick_folder = os.path.join('/content/drive/MyDrive/Test_Modelo/Malade')\n",
    "\n",
    "# Obtenir les chemins des images et leurs étiquettes pour chaque dossier\n",
    "healthy_df = get_image_paths_and_labels(healthy_folder)\n",
    "sick_df = get_image_paths_and_labels(sick_folder)\n",
    "\n",
    "# Concaténer les DataFrames pour obtenir un seul DataFrame\n",
    "full_df = pd.concat([healthy_df, sick_df], ignore_index=True)\n",
    "\n"
   ]
  },
  {
   "cell_type": "code",
   "execution_count": 75,
   "metadata": {
    "colab": {
     "base_uri": "https://localhost:8080/"
    },
    "executionInfo": {
     "elapsed": 482,
     "status": "ok",
     "timestamp": 1711733797049,
     "user": {
      "displayName": "Nikolai Ropa",
      "userId": "05198058582769450594"
     },
     "user_tz": -60
    },
    "id": "TaW5DYoCrViF",
    "outputId": "fbd7a7a6-4b43-472d-fbfa-15d93ee9b619"
   },
   "outputs": [
    {
     "name": "stdout",
     "output_type": "stream",
     "text": [
      "name_label\n",
      "COVID              [1]\n",
      "Lung_Opacity       [1]\n",
      "Normal             [0]\n",
      "Viral_Pneumonia    [1]\n",
      "Name: label, dtype: object\n"
     ]
    }
   ],
   "source": [
    "unique_values = full_df.groupby('name_label')['label'].unique()\n",
    "print(unique_values)"
   ]
  },
  {
   "cell_type": "code",
   "execution_count": 76,
   "metadata": {
    "colab": {
     "base_uri": "https://localhost:8080/",
     "height": 224
    },
    "executionInfo": {
     "elapsed": 14,
     "status": "ok",
     "timestamp": 1711733798618,
     "user": {
      "displayName": "Nikolai Ropa",
      "userId": "05198058582769450594"
     },
     "user_tz": -60
    },
    "id": "Z1eZ9j9nsNYR",
    "outputId": "9ed5c023-244d-4b55-e4c2-037b8283ee4c"
   },
   "outputs": [
    {
     "name": "stdout",
     "output_type": "stream",
     "text": [
      "(1200, 3)\n"
     ]
    },
    {
     "data": {
      "application/vnd.google.colaboratory.intrinsic+json": {
       "summary": "{\n  \"name\": \"full_df\",\n  \"rows\": 1200,\n  \"fields\": [\n    {\n      \"column\": \"file_path\",\n      \"properties\": {\n        \"dtype\": \"string\",\n        \"num_unique_values\": 1200,\n        \"samples\": [\n          \"/content/drive/MyDrive/Test_Modelo/Malade/Viral_Pneumonia-149.png\",\n          \"/content/drive/MyDrive/Test_Modelo/Malade/Lung_Opacity-133.png\",\n          \"/content/drive/MyDrive/Test_Modelo/Sain/Normal-588.png\"\n        ],\n        \"semantic_type\": \"\",\n        \"description\": \"\"\n      }\n    },\n    {\n      \"column\": \"name_label\",\n      \"properties\": {\n        \"dtype\": \"category\",\n        \"num_unique_values\": 4,\n        \"samples\": [\n          \"COVID\",\n          \"Viral_Pneumonia\",\n          \"Normal\"\n        ],\n        \"semantic_type\": \"\",\n        \"description\": \"\"\n      }\n    },\n    {\n      \"column\": \"label\",\n      \"properties\": {\n        \"dtype\": \"number\",\n        \"std\": 0,\n        \"min\": 0,\n        \"max\": 1,\n        \"num_unique_values\": 2,\n        \"samples\": [\n          1,\n          0\n        ],\n        \"semantic_type\": \"\",\n        \"description\": \"\"\n      }\n    }\n  ]\n}",
       "type": "dataframe",
       "variable_name": "full_df"
      },
      "text/html": [
       "\n",
       "  <div id=\"df-1d3c6943-8db3-499b-ac9f-1ab4aefdc4ef\" class=\"colab-df-container\">\n",
       "    <div>\n",
       "<style scoped>\n",
       "    .dataframe tbody tr th:only-of-type {\n",
       "        vertical-align: middle;\n",
       "    }\n",
       "\n",
       "    .dataframe tbody tr th {\n",
       "        vertical-align: top;\n",
       "    }\n",
       "\n",
       "    .dataframe thead th {\n",
       "        text-align: right;\n",
       "    }\n",
       "</style>\n",
       "<table border=\"1\" class=\"dataframe\">\n",
       "  <thead>\n",
       "    <tr style=\"text-align: right;\">\n",
       "      <th></th>\n",
       "      <th>file_path</th>\n",
       "      <th>name_label</th>\n",
       "      <th>label</th>\n",
       "    </tr>\n",
       "  </thead>\n",
       "  <tbody>\n",
       "    <tr>\n",
       "      <th>0</th>\n",
       "      <td>/content/drive/MyDrive/Test_Modelo/Sain/Normal...</td>\n",
       "      <td>Normal</td>\n",
       "      <td>0</td>\n",
       "    </tr>\n",
       "    <tr>\n",
       "      <th>1</th>\n",
       "      <td>/content/drive/MyDrive/Test_Modelo/Sain/Normal...</td>\n",
       "      <td>Normal</td>\n",
       "      <td>0</td>\n",
       "    </tr>\n",
       "    <tr>\n",
       "      <th>2</th>\n",
       "      <td>/content/drive/MyDrive/Test_Modelo/Sain/Normal...</td>\n",
       "      <td>Normal</td>\n",
       "      <td>0</td>\n",
       "    </tr>\n",
       "    <tr>\n",
       "      <th>3</th>\n",
       "      <td>/content/drive/MyDrive/Test_Modelo/Sain/Normal...</td>\n",
       "      <td>Normal</td>\n",
       "      <td>0</td>\n",
       "    </tr>\n",
       "    <tr>\n",
       "      <th>4</th>\n",
       "      <td>/content/drive/MyDrive/Test_Modelo/Sain/Normal...</td>\n",
       "      <td>Normal</td>\n",
       "      <td>0</td>\n",
       "    </tr>\n",
       "  </tbody>\n",
       "</table>\n",
       "</div>\n",
       "    <div class=\"colab-df-buttons\">\n",
       "\n",
       "  <div class=\"colab-df-container\">\n",
       "    <button class=\"colab-df-convert\" onclick=\"convertToInteractive('df-1d3c6943-8db3-499b-ac9f-1ab4aefdc4ef')\"\n",
       "            title=\"Convert this dataframe to an interactive table.\"\n",
       "            style=\"display:none;\">\n",
       "\n",
       "  <svg xmlns=\"http://www.w3.org/2000/svg\" height=\"24px\" viewBox=\"0 -960 960 960\">\n",
       "    <path d=\"M120-120v-720h720v720H120Zm60-500h600v-160H180v160Zm220 220h160v-160H400v160Zm0 220h160v-160H400v160ZM180-400h160v-160H180v160Zm440 0h160v-160H620v160ZM180-180h160v-160H180v160Zm440 0h160v-160H620v160Z\"/>\n",
       "  </svg>\n",
       "    </button>\n",
       "\n",
       "  <style>\n",
       "    .colab-df-container {\n",
       "      display:flex;\n",
       "      gap: 12px;\n",
       "    }\n",
       "\n",
       "    .colab-df-convert {\n",
       "      background-color: #E8F0FE;\n",
       "      border: none;\n",
       "      border-radius: 50%;\n",
       "      cursor: pointer;\n",
       "      display: none;\n",
       "      fill: #1967D2;\n",
       "      height: 32px;\n",
       "      padding: 0 0 0 0;\n",
       "      width: 32px;\n",
       "    }\n",
       "\n",
       "    .colab-df-convert:hover {\n",
       "      background-color: #E2EBFA;\n",
       "      box-shadow: 0px 1px 2px rgba(60, 64, 67, 0.3), 0px 1px 3px 1px rgba(60, 64, 67, 0.15);\n",
       "      fill: #174EA6;\n",
       "    }\n",
       "\n",
       "    .colab-df-buttons div {\n",
       "      margin-bottom: 4px;\n",
       "    }\n",
       "\n",
       "    [theme=dark] .colab-df-convert {\n",
       "      background-color: #3B4455;\n",
       "      fill: #D2E3FC;\n",
       "    }\n",
       "\n",
       "    [theme=dark] .colab-df-convert:hover {\n",
       "      background-color: #434B5C;\n",
       "      box-shadow: 0px 1px 3px 1px rgba(0, 0, 0, 0.15);\n",
       "      filter: drop-shadow(0px 1px 2px rgba(0, 0, 0, 0.3));\n",
       "      fill: #FFFFFF;\n",
       "    }\n",
       "  </style>\n",
       "\n",
       "    <script>\n",
       "      const buttonEl =\n",
       "        document.querySelector('#df-1d3c6943-8db3-499b-ac9f-1ab4aefdc4ef button.colab-df-convert');\n",
       "      buttonEl.style.display =\n",
       "        google.colab.kernel.accessAllowed ? 'block' : 'none';\n",
       "\n",
       "      async function convertToInteractive(key) {\n",
       "        const element = document.querySelector('#df-1d3c6943-8db3-499b-ac9f-1ab4aefdc4ef');\n",
       "        const dataTable =\n",
       "          await google.colab.kernel.invokeFunction('convertToInteractive',\n",
       "                                                    [key], {});\n",
       "        if (!dataTable) return;\n",
       "\n",
       "        const docLinkHtml = 'Like what you see? Visit the ' +\n",
       "          '<a target=\"_blank\" href=https://colab.research.google.com/notebooks/data_table.ipynb>data table notebook</a>'\n",
       "          + ' to learn more about interactive tables.';\n",
       "        element.innerHTML = '';\n",
       "        dataTable['output_type'] = 'display_data';\n",
       "        await google.colab.output.renderOutput(dataTable, element);\n",
       "        const docLink = document.createElement('div');\n",
       "        docLink.innerHTML = docLinkHtml;\n",
       "        element.appendChild(docLink);\n",
       "      }\n",
       "    </script>\n",
       "  </div>\n",
       "\n",
       "\n",
       "<div id=\"df-c6fce373-7f66-4047-ada2-3917b8766d0a\">\n",
       "  <button class=\"colab-df-quickchart\" onclick=\"quickchart('df-c6fce373-7f66-4047-ada2-3917b8766d0a')\"\n",
       "            title=\"Suggest charts\"\n",
       "            style=\"display:none;\">\n",
       "\n",
       "<svg xmlns=\"http://www.w3.org/2000/svg\" height=\"24px\"viewBox=\"0 0 24 24\"\n",
       "     width=\"24px\">\n",
       "    <g>\n",
       "        <path d=\"M19 3H5c-1.1 0-2 .9-2 2v14c0 1.1.9 2 2 2h14c1.1 0 2-.9 2-2V5c0-1.1-.9-2-2-2zM9 17H7v-7h2v7zm4 0h-2V7h2v10zm4 0h-2v-4h2v4z\"/>\n",
       "    </g>\n",
       "</svg>\n",
       "  </button>\n",
       "\n",
       "<style>\n",
       "  .colab-df-quickchart {\n",
       "      --bg-color: #E8F0FE;\n",
       "      --fill-color: #1967D2;\n",
       "      --hover-bg-color: #E2EBFA;\n",
       "      --hover-fill-color: #174EA6;\n",
       "      --disabled-fill-color: #AAA;\n",
       "      --disabled-bg-color: #DDD;\n",
       "  }\n",
       "\n",
       "  [theme=dark] .colab-df-quickchart {\n",
       "      --bg-color: #3B4455;\n",
       "      --fill-color: #D2E3FC;\n",
       "      --hover-bg-color: #434B5C;\n",
       "      --hover-fill-color: #FFFFFF;\n",
       "      --disabled-bg-color: #3B4455;\n",
       "      --disabled-fill-color: #666;\n",
       "  }\n",
       "\n",
       "  .colab-df-quickchart {\n",
       "    background-color: var(--bg-color);\n",
       "    border: none;\n",
       "    border-radius: 50%;\n",
       "    cursor: pointer;\n",
       "    display: none;\n",
       "    fill: var(--fill-color);\n",
       "    height: 32px;\n",
       "    padding: 0;\n",
       "    width: 32px;\n",
       "  }\n",
       "\n",
       "  .colab-df-quickchart:hover {\n",
       "    background-color: var(--hover-bg-color);\n",
       "    box-shadow: 0 1px 2px rgba(60, 64, 67, 0.3), 0 1px 3px 1px rgba(60, 64, 67, 0.15);\n",
       "    fill: var(--button-hover-fill-color);\n",
       "  }\n",
       "\n",
       "  .colab-df-quickchart-complete:disabled,\n",
       "  .colab-df-quickchart-complete:disabled:hover {\n",
       "    background-color: var(--disabled-bg-color);\n",
       "    fill: var(--disabled-fill-color);\n",
       "    box-shadow: none;\n",
       "  }\n",
       "\n",
       "  .colab-df-spinner {\n",
       "    border: 2px solid var(--fill-color);\n",
       "    border-color: transparent;\n",
       "    border-bottom-color: var(--fill-color);\n",
       "    animation:\n",
       "      spin 1s steps(1) infinite;\n",
       "  }\n",
       "\n",
       "  @keyframes spin {\n",
       "    0% {\n",
       "      border-color: transparent;\n",
       "      border-bottom-color: var(--fill-color);\n",
       "      border-left-color: var(--fill-color);\n",
       "    }\n",
       "    20% {\n",
       "      border-color: transparent;\n",
       "      border-left-color: var(--fill-color);\n",
       "      border-top-color: var(--fill-color);\n",
       "    }\n",
       "    30% {\n",
       "      border-color: transparent;\n",
       "      border-left-color: var(--fill-color);\n",
       "      border-top-color: var(--fill-color);\n",
       "      border-right-color: var(--fill-color);\n",
       "    }\n",
       "    40% {\n",
       "      border-color: transparent;\n",
       "      border-right-color: var(--fill-color);\n",
       "      border-top-color: var(--fill-color);\n",
       "    }\n",
       "    60% {\n",
       "      border-color: transparent;\n",
       "      border-right-color: var(--fill-color);\n",
       "    }\n",
       "    80% {\n",
       "      border-color: transparent;\n",
       "      border-right-color: var(--fill-color);\n",
       "      border-bottom-color: var(--fill-color);\n",
       "    }\n",
       "    90% {\n",
       "      border-color: transparent;\n",
       "      border-bottom-color: var(--fill-color);\n",
       "    }\n",
       "  }\n",
       "</style>\n",
       "\n",
       "  <script>\n",
       "    async function quickchart(key) {\n",
       "      const quickchartButtonEl =\n",
       "        document.querySelector('#' + key + ' button');\n",
       "      quickchartButtonEl.disabled = true;  // To prevent multiple clicks.\n",
       "      quickchartButtonEl.classList.add('colab-df-spinner');\n",
       "      try {\n",
       "        const charts = await google.colab.kernel.invokeFunction(\n",
       "            'suggestCharts', [key], {});\n",
       "      } catch (error) {\n",
       "        console.error('Error during call to suggestCharts:', error);\n",
       "      }\n",
       "      quickchartButtonEl.classList.remove('colab-df-spinner');\n",
       "      quickchartButtonEl.classList.add('colab-df-quickchart-complete');\n",
       "    }\n",
       "    (() => {\n",
       "      let quickchartButtonEl =\n",
       "        document.querySelector('#df-c6fce373-7f66-4047-ada2-3917b8766d0a button');\n",
       "      quickchartButtonEl.style.display =\n",
       "        google.colab.kernel.accessAllowed ? 'block' : 'none';\n",
       "    })();\n",
       "  </script>\n",
       "</div>\n",
       "    </div>\n",
       "  </div>\n"
      ],
      "text/plain": [
       "                                           file_path name_label  label\n",
       "0  /content/drive/MyDrive/Test_Modelo/Sain/Normal...     Normal      0\n",
       "1  /content/drive/MyDrive/Test_Modelo/Sain/Normal...     Normal      0\n",
       "2  /content/drive/MyDrive/Test_Modelo/Sain/Normal...     Normal      0\n",
       "3  /content/drive/MyDrive/Test_Modelo/Sain/Normal...     Normal      0\n",
       "4  /content/drive/MyDrive/Test_Modelo/Sain/Normal...     Normal      0"
      ]
     },
     "execution_count": 76,
     "metadata": {},
     "output_type": "execute_result"
    }
   ],
   "source": [
    "print(full_df.shape)\n",
    "full_df.head()"
   ]
  },
  {
   "cell_type": "markdown",
   "metadata": {
    "id": "ZLuIfm-IhS5p"
   },
   "source": [
    "Affichage d'une image"
   ]
  },
  {
   "cell_type": "code",
   "execution_count": 77,
   "metadata": {
    "colab": {
     "base_uri": "https://localhost:8080/",
     "height": 435
    },
    "executionInfo": {
     "elapsed": 1091,
     "status": "ok",
     "timestamp": 1711733804328,
     "user": {
      "displayName": "Nikolai Ropa",
      "userId": "05198058582769450594"
     },
     "user_tz": -60
    },
    "id": "P3o27Bgpr6-I",
    "outputId": "fd332f3e-7e97-4ed3-924f-50fc585e968f"
   },
   "outputs": [
    {
     "data": {
      "image/png": "[encoded data removed]",
      "text/plain": [
       "<Figure size 640x480 with 1 Axes>"
      ]
     },
     "metadata": {},
     "output_type": "display_data"
    }
   ],
   "source": [
    "# Chemin de l'image\n",
    "filepath =full_df.file_path[0]\n",
    "\n",
    "# Lecture du fichier\n",
    "im = tf.io.read_file(filepath)\n",
    "\n",
    "# On décode le fichier\n",
    "im = tf.image.decode_jpeg(im, channels=3)\n",
    "\n",
    "# Affichage du tensor\n",
    "plt.imshow(im);\n"
   ]
  },
  {
   "cell_type": "markdown",
   "metadata": {
    "id": "FS4xvqVthV92"
   },
   "source": [
    "Création des sets de test et d'entraînement"
   ]
  },
  {
   "cell_type": "code",
   "execution_count": 78,
   "metadata": {
    "colab": {
     "base_uri": "https://localhost:8080/"
    },
    "executionInfo": {
     "elapsed": 6867,
     "status": "ok",
     "timestamp": 1711733813539,
     "user": {
      "displayName": "Nikolai Ropa",
      "userId": "05198058582769450594"
     },
     "user_tz": -60
    },
    "id": "548KONsMsWh9",
    "outputId": "965d1c6c-1e49-4568-ab8f-2fa2126d8553"
   },
   "outputs": [
    {
     "name": "stderr",
     "output_type": "stream",
     "text": [
      "100%|██████████| 240/240 [00:06<00:00, 35.27it/s] \n"
     ]
    }
   ],
   "source": [
    "X_train_path, X_test_path, y_train, y_test = train_test_split(full_df.file_path, full_df.label, train_size=0.8, random_state=1234)\n",
    "\n",
    "X_test = []\n",
    "for filepath in tqdm(X_test_path):\n",
    "    # Lecture du fichier\n",
    "    im = tf.io.read_file(filepath)\n",
    "    # On décode le fichier\n",
    "    im = tf.image.decode_jpeg(im, channels=3)\n",
    "    # Redimensionnement\n",
    "    im = tf.image.resize(im, size=(224, 224))\n",
    "    X_test.append([im])\n",
    "\n",
    "X_test = tf.concat(X_test, axis=0)"
   ]
  },
  {
   "cell_type": "markdown",
   "metadata": {
    "id": "XVEis15ohbgF"
   },
   "source": [
    "Chargement du modèle VGG16 tuné et pré-entraîné, prédictions et métriques"
   ]
  },
  {
   "cell_type": "code",
   "execution_count": 79,
   "metadata": {
    "executionInfo": {
     "elapsed": 2040,
     "status": "ok",
     "timestamp": 1711733830221,
     "user": {
      "displayName": "Nikolai Ropa",
      "userId": "05198058582769450594"
     },
     "user_tz": -60
    },
    "id": "h3YafcQ1GFbv"
   },
   "outputs": [],
   "source": [
    "\n",
    "# Charger le modèle entraîné\n",
    "model = load_model('/content/drive/MyDrive/BC_DS/Pretraines_models/PT_Models_Nikolai/Modèles_finaux/VGG16_finetuned_model.h5')\n"
   ]
  },
  {
   "cell_type": "code",
   "execution_count": 80,
   "metadata": {
    "colab": {
     "base_uri": "https://localhost:8080/"
    },
    "executionInfo": {
     "elapsed": 202473,
     "status": "ok",
     "timestamp": 1711734034312,
     "user": {
      "displayName": "Nikolai Ropa",
      "userId": "05198058582769450594"
     },
     "user_tz": -60
    },
    "id": "PqFWeR-PG5yL",
    "outputId": "136d8f14-dec9-4a80-8bd1-a9af269c8561"
   },
   "outputs": [
    {
     "name": "stdout",
     "output_type": "stream",
     "text": [
      "8/8 [==============================] - 148s 18s/step\n"
     ]
    }
   ],
   "source": [
    "# Effectuer des prédictions sur un ensemble de données de validation ou de test\n",
    "y_pred = model.predict(X_test)\n",
    "\n"
   ]
  },
  {
   "cell_type": "code",
   "execution_count": 81,
   "metadata": {
    "colab": {
     "base_uri": "https://localhost:8080/"
    },
    "executionInfo": {
     "elapsed": 270,
     "status": "ok",
     "timestamp": 1711734086683,
     "user": {
      "displayName": "Nikolai Ropa",
      "userId": "05198058582769450594"
     },
     "user_tz": -60
    },
    "id": "rNMyHw2vIkIL",
    "outputId": "3aec76b9-487e-4197-a5b2-2ac2e1fb3283"
   },
   "outputs": [
    {
     "name": "stdout",
     "output_type": "stream",
     "text": [
      "Matrice de confusion [[112   2]\n",
      " [  5 121]]\n"
     ]
    }
   ],
   "source": [
    "\n",
    "\n",
    "# Convertir les prédictions en classes binaires (0 ou 1)\n",
    "y_pred_binary = (y_pred > 0.5).astype(int)\n",
    "\n",
    "\n",
    "# Calculer la matrice de confusion\n",
    "conf_matrix = confusion_matrix(y_test, y_pred_binary)\n",
    "\n",
    "\n",
    "print(\"Matrice de confusion\", conf_matrix)"
   ]
  },
  {
   "cell_type": "code",
   "execution_count": 82,
   "metadata": {
    "colab": {
     "base_uri": "https://localhost:8080/",
     "height": 472
    },
    "executionInfo": {
     "elapsed": 438,
     "status": "ok",
     "timestamp": 1711734089347,
     "user": {
      "displayName": "Nikolai Ropa",
      "userId": "05198058582769450594"
     },
     "user_tz": -60
    },
    "id": "I1JIuq8kC2bE",
    "outputId": "cc6454e6-fbda-4267-e1aa-8e269dac82c2"
   },
   "outputs": [
    {
     "data": {
      "image/png": "[encoded data removed]",
      "text/plain": [
       "<Figure size 640x480 with 2 Axes>"
      ]
     },
     "metadata": {},
     "output_type": "display_data"
    }
   ],
   "source": [
    "# Afficher la matrice de confusion sous forme de heatmap\n",
    "sns.heatmap(conf_matrix, annot=True, cmap='Blues', fmt='d', xticklabels=[0, 1], yticklabels=[0, 1])\n",
    "plt.xlabel('Predicted labels')\n",
    "plt.ylabel('True labels')\n",
    "plt.title('Confusion Matrix')\n",
    "plt.show()"
   ]
  },
  {
   "cell_type": "code",
   "execution_count": 83,
   "metadata": {
    "colab": {
     "base_uri": "https://localhost:8080/"
    },
    "executionInfo": {
     "elapsed": 299,
     "status": "ok",
     "timestamp": 1711734092521,
     "user": {
      "displayName": "Nikolai Ropa",
      "userId": "05198058582769450594"
     },
     "user_tz": -60
    },
    "id": "-N1TUIbxBe5e",
    "outputId": "b9839b8a-1364-417f-db4d-0f883b049680"
   },
   "outputs": [
    {
     "name": "stdout",
     "output_type": "stream",
     "text": [
      "              precision    recall  f1-score   support\n",
      "\n",
      "           0       0.96      0.98      0.97       114\n",
      "           1       0.98      0.96      0.97       126\n",
      "\n",
      "    accuracy                           0.97       240\n",
      "   macro avg       0.97      0.97      0.97       240\n",
      "weighted avg       0.97      0.97      0.97       240\n",
      "\n"
     ]
    }
   ],
   "source": [
    "print(classification_report(y_test, y_pred_binary))"
   ]
  },
  {
   "cell_type": "markdown",
   "metadata": {
    "id": "s66jw34fhmX4"
   },
   "source": [
    "Grad-Cam : initialisation pour le modèle VGG16 et fonctions"
   ]
  },
  {
   "cell_type": "code",
   "execution_count": 84,
   "metadata": {
    "executionInfo": {
     "elapsed": 315,
     "status": "ok",
     "timestamp": 1711734103645,
     "user": {
      "displayName": "Nikolai Ropa",
      "userId": "05198058582769450594"
     },
     "user_tz": -60
    },
    "id": "L31F3DiQJSk_"
   },
   "outputs": [],
   "source": [
    "model_builder = keras.applications.xception.Xception\n",
    "img_size = (224, 224)\n",
    "preprocess_input = keras.applications.xception.preprocess_input\n",
    "decode_predictions = keras.applications.xception.decode_predictions\n",
    "\n",
    "last_conv_layer_name = \"block5_conv3\"\n",
    "\n",
    "\n"
   ]
  },
  {
   "cell_type": "code",
   "execution_count": 85,
   "metadata": {
    "executionInfo": {
     "elapsed": 8,
     "status": "ok",
     "timestamp": 1711734106295,
     "user": {
      "displayName": "Nikolai Ropa",
      "userId": "05198058582769450594"
     },
     "user_tz": -60
    },
    "id": "z3xBeIBBNbUe"
   },
   "outputs": [],
   "source": [
    "def get_img_array(img_path, size):\n",
    "    # `img` is a PIL image of size 299x299\n",
    "    img = keras.utils.load_img(img_path, target_size=img_size)\n",
    "    # `array` is a float32 Numpy array of shape (299, 299, 3)\n",
    "    array = keras.utils.img_to_array(img)\n",
    "    # We add a dimension to transform our array into a \"batch\"\n",
    "    # of size (1, 299, 299, 3)\n",
    "    array = np.expand_dims(array, axis=0)\n",
    "    return array\n",
    "\n",
    "def make_gradcam_heatmap(img_array, model, last_conv_layer_name, pred_index=None):\n",
    "    # First, we create a model that maps the input image to the activations\n",
    "    # of the last conv layer as well as the output predictions\n",
    "    grad_model = keras.models.Model(\n",
    "        model.inputs, [model.get_layer(last_conv_layer_name).output, model.output]\n",
    "    )\n",
    "\n",
    "    # Then, we compute the gradient of the top predicted class for our input image\n",
    "    # with respect to the activations of the last conv layer\n",
    "    with tf.GradientTape() as tape:\n",
    "        last_conv_layer_output, preds = grad_model(img_array)\n",
    "        if pred_index is None:\n",
    "            pred_index = tf.argmax(preds[0])\n",
    "        class_channel = preds[:, pred_index]\n",
    "\n",
    "    # This is the gradient of the output neuron (top predicted or chosen)\n",
    "    # with regard to the output feature map of the last conv layer\n",
    "    grads = tape.gradient(class_channel, last_conv_layer_output)\n",
    "\n",
    "    # This is a vector where each entry is the mean intensity of the gradient\n",
    "    # over a specific feature map channel\n",
    "    pooled_grads = tf.reduce_mean(grads, axis=(0, 1, 2))\n",
    "\n",
    "    # We multiply each channel in the feature map array\n",
    "    # by \"how important this channel is\" with regard to the top predicted class\n",
    "    # then sum all the channels to obtain the heatmap class activation\n",
    "    last_conv_layer_output = last_conv_layer_output[0]\n",
    "    heatmap = last_conv_layer_output @ pooled_grads[..., tf.newaxis]\n",
    "    heatmap = tf.squeeze(heatmap)\n",
    "\n",
    "    # For visualization purpose, we will also normalize the heatmap between 0 & 1\n",
    "    heatmap = tf.maximum(heatmap, 0) / tf.math.reduce_max(heatmap)\n",
    "    return heatmap.numpy()\n",
    "\n",
    "def save_and_display_gradcam(img_path, heatmap, cam_path=\"cam.jpg\", alpha=0.4):\n",
    "    # Load the original image\n",
    "    img = keras.utils.load_img(img_path)\n",
    "    img = keras.utils.img_to_array(img)\n",
    "\n",
    "    # Rescale heatmap to a range 0-255\n",
    "    heatmap = np.uint8(255 * heatmap)\n",
    "\n",
    "    # Use jet colormap to colorize heatmap\n",
    "    jet = mpl.colormaps[\"jet\"]\n",
    "\n",
    "    # Use RGB values of the colormap\n",
    "    jet_colors = jet(np.arange(256))[:, :3]\n",
    "    jet_heatmap = jet_colors[heatmap]\n",
    "\n",
    "    # Create an image with RGB colorized heatmap\n",
    "    jet_heatmap = keras.utils.array_to_img(jet_heatmap)\n",
    "    jet_heatmap = jet_heatmap.resize((img.shape[1], img.shape[0]))\n",
    "    jet_heatmap = keras.utils.img_to_array(jet_heatmap)\n",
    "\n",
    "    # Superimpose the heatmap on original image\n",
    "    superimposed_img = jet_heatmap * alpha + img\n",
    "    superimposed_img = keras.utils.array_to_img(superimposed_img)\n",
    "\n",
    "    # Save the superimposed image\n",
    "    superimposed_img.save(cam_path)\n",
    "\n",
    "    # Display Grad CAM\n",
    "    display(Image.open(cam_path))"
   ]
  },
  {
   "cell_type": "markdown",
   "metadata": {
    "id": "GmadNYzQhtS1"
   },
   "source": [
    "On créé une liste avec 20 chemins d'images malades et saines à la suite"
   ]
  },
  {
   "cell_type": "code",
   "execution_count": 86,
   "metadata": {
    "executionInfo": {
     "elapsed": 428,
     "status": "ok",
     "timestamp": 1711734118114,
     "user": {
      "displayName": "Nikolai Ropa",
      "userId": "05198058582769450594"
     },
     "user_tz": -60
    },
    "id": "DXqufDyIFQuT"
   },
   "outputs": [],
   "source": [
    "# Sélectionner les 2 premières images de chaque classe\n",
    "covid_paths = full_df[full_df['name_label'] == 'COVID']['file_path'].tolist()[:2]\n",
    "lung_opacity_paths = full_df[full_df['name_label'] == 'Lung_Opacity']['file_path'].tolist()[:2]\n",
    "viral_pneumonia_paths = full_df[full_df['name_label'] == 'Viral_Pneumonia']['file_path'].tolist()[:2]\n",
    "\n",
    "# Sélectionner toutes les images de la classe \"Normal\"\n",
    "normal_paths = full_df[full_df['name_label'] == 'Normal']['file_path'].tolist()\n",
    "\n",
    "# Mélanger les chemins d'images de la classe \"Normal\"\n",
    "random.shuffle(normal_paths)\n",
    "\n",
    "# Sélectionner les 2 premières images mélangées\n",
    "normal_paths_selected = normal_paths[:2]\n",
    "\n",
    "# Sélectionner aléatoirement 2 autres images mélangées\n",
    "normal_paths_selected += random.sample(normal_paths[2:], 2)\n",
    "\n",
    "# Sélectionner aléatoirement 2 autres images mélangées\n",
    "normal_paths_selected += random.sample(normal_paths[4:], 2)\n",
    "\n",
    "# Créer list_of_image_paths en alternant entre les chemins d'images de chaque classe\n",
    "list_of_image_paths = []\n",
    "for i in range(2):\n",
    "    list_of_image_paths.extend([covid_paths[i], normal_paths_selected[i], lung_opacity_paths[i], normal_paths_selected[i+2], viral_pneumonia_paths[i], normal_paths_selected[i+4]])\n"
   ]
  },
  {
   "cell_type": "code",
   "execution_count": 87,
   "metadata": {
    "executionInfo": {
     "elapsed": 286,
     "status": "ok",
     "timestamp": 1711734121089,
     "user": {
      "displayName": "Nikolai Ropa",
      "userId": "05198058582769450594"
     },
     "user_tz": -60
    },
    "id": "c80WzrF1KISi"
   },
   "outputs": [],
   "source": [
    "#On ajoute quelques images ciblées à cette liste\n",
    "new_images_paths = [\n",
    "    '/content/drive/MyDrive/BC_DS/COVID-19_Radiography_Dataset/COVID/images/COVID-231.png',\n",
    "    '/content/drive/MyDrive/BC_DS/COVID-19_Radiography_Dataset/Normal/images/Normal-1489.png',\n",
    "    '/content/drive/MyDrive/BC_DS/COVID-19_Radiography_Dataset/COVID/images/COVID-1525.png',\n",
    "    '/content/drive/MyDrive/BC_DS/COVID-19_Radiography_Dataset/Normal/images/Normal-260.png',\n",
    "    '/content/drive/MyDrive/BC_DS/COVID-19_Radiography_Dataset/Viral_Pneumonia/images/Viral Pneumonia-15.png',\n",
    "    '/content/drive/MyDrive/BC_DS/COVID-19_Radiography_Dataset/Normal/images/Normal-226.png',\n",
    "    '/content/drive/MyDrive/BC_DS/COVID-19_Radiography_Dataset/Lung_Opacity/images/Lung_Opacity-408.png',\n",
    "    '/content/drive/MyDrive/BC_DS/COVID-19_Radiography_Dataset/Normal/images/Normal-224.png'\n",
    "]\n",
    "\n",
    "# Ajouter les nouvelles images à la liste existante\n",
    "list_of_image_paths.extend(new_images_paths)"
   ]
  },
  {
   "cell_type": "code",
   "execution_count": 88,
   "metadata": {
    "colab": {
     "base_uri": "https://localhost:8080/"
    },
    "executionInfo": {
     "elapsed": 303,
     "status": "ok",
     "timestamp": 1711734123088,
     "user": {
      "displayName": "Nikolai Ropa",
      "userId": "05198058582769450594"
     },
     "user_tz": -60
    },
    "id": "kDO-VBoGYz6B",
    "outputId": "e0284bb1-336a-450c-a146-b93c6372c844"
   },
   "outputs": [
    {
     "data": {
      "text/plain": [
       "['/content/drive/MyDrive/Test_Modelo/Malade/COVID-84.png',\n",
       " '/content/drive/MyDrive/Test_Modelo/Sain/Normal-483.png',\n",
       " '/content/drive/MyDrive/Test_Modelo/Malade/Lung_Opacity-240.png',\n",
       " '/content/drive/MyDrive/Test_Modelo/Sain/Normal-450.png',\n",
       " '/content/drive/MyDrive/Test_Modelo/Malade/Viral_Pneumonia-84.png',\n",
       " '/content/drive/MyDrive/Test_Modelo/Sain/Normal-240.png',\n",
       " '/content/drive/MyDrive/Test_Modelo/Malade/COVID-115.png',\n",
       " '/content/drive/MyDrive/Test_Modelo/Sain/Normal-178.png',\n",
       " '/content/drive/MyDrive/Test_Modelo/Malade/Lung_Opacity-62.png',\n",
       " '/content/drive/MyDrive/Test_Modelo/Sain/Normal-473.png',\n",
       " '/content/drive/MyDrive/Test_Modelo/Malade/Viral_Pneumonia-246.png',\n",
       " '/content/drive/MyDrive/Test_Modelo/Sain/Normal-330.png',\n",
       " '/content/drive/MyDrive/BC_DS/COVID-19_Radiography_Dataset/COVID/images/COVID-231.png',\n",
       " '/content/drive/MyDrive/BC_DS/COVID-19_Radiography_Dataset/Normal/images/Normal-1489.png',\n",
       " '/content/drive/MyDrive/BC_DS/COVID-19_Radiography_Dataset/COVID/images/COVID-1525.png',\n",
       " '/content/drive/MyDrive/BC_DS/COVID-19_Radiography_Dataset/Normal/images/Normal-260.png',\n",
       " '/content/drive/MyDrive/BC_DS/COVID-19_Radiography_Dataset/Viral_Pneumonia/images/Viral Pneumonia-15.png',\n",
       " '/content/drive/MyDrive/BC_DS/COVID-19_Radiography_Dataset/Normal/images/Normal-226.png',\n",
       " '/content/drive/MyDrive/BC_DS/COVID-19_Radiography_Dataset/Lung_Opacity/images/Lung_Opacity-408.png',\n",
       " '/content/drive/MyDrive/BC_DS/COVID-19_Radiography_Dataset/Normal/images/Normal-224.png']"
      ]
     },
     "execution_count": 88,
     "metadata": {},
     "output_type": "execute_result"
    }
   ],
   "source": [
    "list_of_image_paths"
   ]
  },
  {
   "cell_type": "markdown",
   "metadata": {
    "id": "ynjEXKr7h9_Q"
   },
   "source": [
    "Préprocessing bref de ces images et enregistrement dans un set d'évaluation"
   ]
  },
  {
   "cell_type": "code",
   "execution_count": 89,
   "metadata": {
    "colab": {
     "base_uri": "https://localhost:8080/"
    },
    "executionInfo": {
     "elapsed": 1982,
     "status": "ok",
     "timestamp": 1711734127844,
     "user": {
      "displayName": "Nikolai Ropa",
      "userId": "05198058582769450594"
     },
     "user_tz": -60
    },
    "id": "BOkNg-e9Q4IO",
    "outputId": "d360a1ff-5ce7-4669-d2b3-c1eab0ccaffb"
   },
   "outputs": [
    {
     "name": "stdout",
     "output_type": "stream",
     "text": [
      "(20, 224, 224, 3)\n"
     ]
    }
   ],
   "source": [
    "X_eval = []\n",
    "for img_path in list_of_image_paths:\n",
    "    # Lecture du fichier\n",
    "    im = tf.io.read_file(img_path)\n",
    "    # On décode le fichier\n",
    "    im = tf.image.decode_jpeg(im, channels=3)\n",
    "    # Redimensionnement\n",
    "    im = tf.image.resize(im, size=(224, 224))\n",
    "    X_eval.append([im])\n",
    "\n",
    "X_eval = tf.concat(X_eval, axis=0)\n",
    "print(X_eval.shape)\n"
   ]
  },
  {
   "cell_type": "markdown",
   "metadata": {
    "id": "X1ygozx6iE79"
   },
   "source": [
    "Predictions avec notre modèle de ces images"
   ]
  },
  {
   "cell_type": "code",
   "execution_count": 90,
   "metadata": {
    "colab": {
     "base_uri": "https://localhost:8080/"
    },
    "executionInfo": {
     "elapsed": 12895,
     "status": "ok",
     "timestamp": 1711734146742,
     "user": {
      "displayName": "Nikolai Ropa",
      "userId": "05198058582769450594"
     },
     "user_tz": -60
    },
    "id": "EJCf1BS7Vdig",
    "outputId": "2b855594-b876-4166-94e3-349aa95b1696"
   },
   "outputs": [
    {
     "name": "stdout",
     "output_type": "stream",
     "text": [
      "1/1 [==============================] - 13s 13s/step\n",
      "[[1]\n",
      " [0]\n",
      " [1]\n",
      " [0]\n",
      " [1]\n",
      " [0]\n",
      " [1]\n",
      " [0]\n",
      " [1]\n",
      " [0]\n",
      " [1]\n",
      " [0]\n",
      " [1]\n",
      " [0]\n",
      " [0]\n",
      " [0]\n",
      " [1]\n",
      " [0]\n",
      " [1]\n",
      " [0]]\n"
     ]
    }
   ],
   "source": [
    "# Chargement du modèle et désactivation dernière couche\n",
    "model = model\n",
    "model.layers[-1].activation = None\n",
    "\n",
    "# Obtenir les prédictions du modèle\n",
    "preds = model.predict(X_eval)\n",
    "\n",
    "# Interpréter les prédictions pour obtenir les classes prédites\n",
    "predictions = (preds > 0.5).astype(int)\n",
    "\n",
    "# Afficher les prédictions\n",
    "print(predictions)"
   ]
  },
  {
   "cell_type": "markdown",
   "metadata": {
    "id": "PeWi0Ms0iJX5"
   },
   "source": [
    "On enregistre dans une liste results les résultats de GRAD-CAM"
   ]
  },
  {
   "cell_type": "code",
   "execution_count": 91,
   "metadata": {
    "colab": {
     "base_uri": "https://localhost:8080/",
     "height": 1000,
     "output_embedded_package_id": "1UnneuMaGOzurlOJapjxEbpo0J613Qtgi"
    },
    "executionInfo": {
     "elapsed": 53300,
     "status": "ok",
     "timestamp": 1711734203658,
     "user": {
      "displayName": "Nikolai Ropa",
      "userId": "05198058582769450594"
     },
     "user_tz": -60
    },
    "id": "AHACD4EzZy7H",
    "outputId": "b09ef670-fabf-46ab-af64-2c0c34e1a566"
   },
   "outputs": [
    {
     "data": {
      "text/plain": [
       "Output hidden; open in https://colab.research.google.com to view."
      ]
     },
     "metadata": {},
     "output_type": "display_data"
    }
   ],
   "source": [
    "# Liste pour stocker les résultats avec le nom de fichier associé\n",
    "results = []\n",
    "\n",
    "for img_path in list_of_image_paths:\n",
    "    # Obtenez le nom de fichier à partir du chemin complet\n",
    "    file_name = os.path.basename(img_path)\n",
    "\n",
    "    # Obtenez le tableau d'image\n",
    "    img_array = preprocess_input(get_img_array(img_path, size=img_size))\n",
    "\n",
    "    # Générez la carte de chaleur Grad-CAM\n",
    "    heatmap = make_gradcam_heatmap(img_array, model, last_conv_layer_name)\n",
    "\n",
    "    # Sauvegardez Grad-CAM avec le nom de fichier associé\n",
    "    cam_path = f\"gradcam_{file_name}\"\n",
    "    save_and_display_gradcam(img_path, heatmap, cam_path)\n",
    "\n",
    "    # Ajoutez le résultat à la liste\n",
    "    results.append((file_name, cam_path))\n",
    "\n"
   ]
  },
  {
   "cell_type": "markdown",
   "metadata": {
    "id": "tGwaoAIDiSbD"
   },
   "source": [
    "On affiche les GRAD-CAM avec le nom de l'image et la classe prédite par notre modèle"
   ]
  },
  {
   "cell_type": "code",
   "execution_count": 92,
   "metadata": {
    "colab": {
     "base_uri": "https://localhost:8080/",
     "height": 1000,
     "output_embedded_package_id": "1oFqi0005wGSucCyorZJTXtZNO--vxfez"
    },
    "executionInfo": {
     "elapsed": 14492,
     "status": "ok",
     "timestamp": 1711734222391,
     "user": {
      "displayName": "Nikolai Ropa",
      "userId": "05198058582769450594"
     },
     "user_tz": -60
    },
    "id": "xleytabzeLXM",
    "outputId": "22c4b2ac-b211-4d5e-fe6f-a1a5be6df015"
   },
   "outputs": [
    {
     "data": {
      "text/plain": [
       "Output hidden; open in https://colab.research.google.com to view."
      ]
     },
     "metadata": {},
     "output_type": "display_data"
    }
   ],
   "source": [
    "# Convertir predictions en une liste de valeurs uniques\n",
    "predictions_list = predictions.flatten().tolist()\n",
    "\n",
    "# Fusionner les listes results et predictions_list\n",
    "results_with_predictions = [(file_name, cam_path, prediction) for (file_name, cam_path), prediction in zip(results, predictions_list)]\n",
    "\n",
    "# Nombre d'images à afficher par paire\n",
    "num_images = len(results_with_predictions)\n",
    "num_pairs = num_images // 2\n",
    "\n",
    "# Créer une figure avec des sous-graphiques\n",
    "fig, axs = plt.subplots(num_pairs, 2, figsize=(15, 7*num_pairs))\n",
    "\n",
    "# Parcourir les paires d'images\n",
    "for i in range(num_pairs):\n",
    "    for j in range(2):\n",
    "        idx = i * 2 + j\n",
    "        if idx < num_images:\n",
    "            file_name, cam_path, prediction = results_with_predictions[idx]\n",
    "\n",
    "            # Charger l'image Grad-CAM\n",
    "            img = Image.open(cam_path)\n",
    "\n",
    "            # Afficher l'image\n",
    "            axs[i, j].imshow(img)\n",
    "            axs[i, j].set_title(f'{file_name}\\nPredicted Class: {prediction}')\n",
    "            axs[i, j].axis('off')\n",
    "\n",
    "# Afficher la figure\n",
    "plt.tight_layout()\n",
    "plt.show()\n",
    "\n"
   ]
  }
 ],
 "metadata": {
  "colab": {
   "authorship_tag": "ABX9TyPkNsQ+nG9ChuQQtFYpzDke",
   "mount_file_id": "1re4N2wpnZl7Cbyo4NxmSEjyNBRjWKjCW",
   "provenance": []
  },
  "kernelspec": {
   "display_name": "Python 3 (ipykernel)",
   "language": "python",
   "name": "python3"
  },
  "language_info": {
   "codemirror_mode": {
    "name": "ipython",
    "version": 3
   },
   "file_extension": ".py",
   "mimetype": "text/x-python",
   "name": "python",
   "nbconvert_exporter": "python",
   "pygments_lexer": "ipython3",
   "version": "3.12.2"
  }
 },
 "nbformat": 4,
 "nbformat_minor": 4
}
