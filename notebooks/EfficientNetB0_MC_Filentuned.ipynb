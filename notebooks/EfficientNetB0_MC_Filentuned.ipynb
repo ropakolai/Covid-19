{
 "cells": [
  {
   "cell_type": "code",
   "execution_count": 27,
   "metadata": {
    "colab": {
     "base_uri": "https://localhost:8080/"
    },
    "executionInfo": {
     "elapsed": 8666,
     "status": "ok",
     "timestamp": 1711049772681,
     "user": {
      "displayName": "Nikolai Ropa",
      "userId": "05198058582769450594"
     },
     "user_tz": -60
    },
    "id": "QDn3pUH1GTxI",
    "outputId": "a1b9c887-07a0-4769-f580-7c61d7d8dc74"
   },
   "outputs": [],
   "source": [
    "import pickle\n",
    "import os\n",
    "import numpy as np\n",
    "import pandas as pd\n",
    "import matplotlib.pyplot as plt\n",
    "from sklearn.model_selection import train_test_split\n",
    "from tensorflow.keras.applications.efficientnet import EfficientNetB0, preprocess_input\n",
    "\n",
    "from tensorflow.keras.layers import Dense, GlobalAveragePooling2D,BatchNormalization\n",
    "from tensorflow.keras.models import Model\n",
    "from tensorflow.keras.optimizers import SGD\n",
    "from tensorflow.keras.callbacks import TensorBoard\n",
    "from tensorflow.keras.models import load_model\n",
    "from tensorflow.keras.preprocessing.image import ImageDataGenerator, load_img, img_to_array\n",
    "import tensorflow as tf\n",
    "from tensorflow.keras.models import Sequential\n",
    "from tensorflow.keras.layers import Dense, Flatten\n",
    "from kerastuner.tuners import RandomSearch\n",
    "from tensorflow.keras.callbacks import Callback, EarlyStopping\n",
    "from tensorflow.keras.optimizers import Adam\n",
    "import cv2\n",
    "from tensorflow.keras.preprocessing import image\n",
    "import keras\n",
    "# Display\n",
    "from IPython.display import Image, display\n",
    "import matplotlib as mpl\n",
    "import matplotlib.pyplot as plt\n",
    "from tensorflow.keras.regularizers import l2\n",
    "from tensorflow.keras.layers import Dropout\n",
    "from tensorflow.keras.utils import to_categorical\n",
    "from tensorflow.keras.applications import EfficientNetB0\n",
    "from tensorflow.keras.layers import GlobalAveragePooling2D, Dense\n",
    "from tensorflow.keras.models import Model\n",
    "from kerastuner.tuners import RandomSearch\n",
    "from tensorflow.keras.optimizers import Adam\n",
    "from tensorflow.keras.losses import BinaryCrossentropy\n",
    "from tensorflow.keras.metrics import Accuracy\n",
    "import numpy as np"
   ]
  },
  {
   "cell_type": "code",
   "execution_count": 29,
   "metadata": {
    "executionInfo": {
     "elapsed": 35232,
     "status": "ok",
     "timestamp": 1711049851576,
     "user": {
      "displayName": "Nikolai Ropa",
      "userId": "05198058582769450594"
     },
     "user_tz": -60
    },
    "id": "f7CefwGXgrNL"
   },
   "outputs": [],
   "source": [
    "# Fonction pour redimensionner, normaliser et prétraiter une image pour VGG16\n",
    "def preprocess_image_efficientB0(img_path, target_size=(224, 224)):\n",
    "    # Charger l'image depuis le chemin du fichier en couleur\n",
    "    img = cv2.imread(img_path)\n",
    "    # Redimensionner l'image à la taille cible pour EfficientNetB0\n",
    "    img_resized = cv2.resize(img, target_size)\n",
    "    # Prétraiter l'image pour EfficientNetB0\n",
    "    img_preprocessed = preprocess_input(img_resized)\n",
    "    return img_preprocessed\n",
    "\n",
    "# Chemin vers vos dossiers contenant les images saines et malades\n",
    "pneumo_folder_path = \"../../data/raw/datasets/Covid-19_MC_600_Dataset_All/Viral_Pneumonia\" #0\n",
    "lo_folder_path = \"../../data/raw/datasets/Covid-19_MC_600_Dataset_All/Lung_Opacity\" # 1\n",
    "normal_folder_path = \"../../data/raw/datasets/Covid-19_MC_600_Dataset_All/Normal\" #2\n",
    "covid_folder_path = \"../../data/raw/datasets/Covid-19_MC_600_Dataset_All/COVID\" #3\n",
    "# :{0: 'Viral_Pneumonia', 1: 'Lung_Opacity', 2: 'Normal', 3: 'COVID'}\n",
    "# Liste pour stocker les données d'images et les étiquettes\n",
    "images_data = []\n",
    "labels = []\n",
    "\n",
    "# Parcourez le dossier contenant les images Pneumonie Virale et les labelliser à 0\n",
    "for filename in os.listdir(pneumo_folder_path):\n",
    "    # Construire le chemin complet de l'image\n",
    "    img_path = os.path.join(pneumo_folder_path, filename)\n",
    "    # Prétraiter l'image et l'ajouter à la liste des données d'images\n",
    "    images_data.append(preprocess_image_efficientB0(img_path))\n",
    "    # Étiquettez les images \n",
    "    labels.append(0)\n",
    "\n",
    "# Parcourez le dossier contenant les images Lung Opacity et les labelliser à 1\n",
    "for filename in os.listdir(lo_folder_path):\n",
    "    img_path = os.path.join(lo_folder_path, filename)\n",
    "    # Prétraiter l'image et l'ajouter à la liste des données d'images\n",
    "    images_data.append(preprocess_image_efficientB0(img_path))\n",
    "    # Étiquettez les images \n",
    "    labels.append(1)\n",
    "\n",
    "# Parcourez le dossier contenant les images Normal et les labelliser à 2\n",
    "for filename in os.listdir(normal_folder_path):\n",
    "    img_path = os.path.join(normal_folder_path, filename)\n",
    "    # Prétraiter l'image et l'ajouter à la liste des données d'images\n",
    "    images_data.append(preprocess_image_efficientB0(img_path))\n",
    "    # Étiquettez les images \n",
    "    labels.append(2)\n",
    "\n",
    "# Parcourez le dossier contenant les images COVID et les labelliser à 3\n",
    "for filename in os.listdir(covid_folder_path):\n",
    "    img_path = os.path.join(covid_folder_path, filename)\n",
    "    # Prétraiter l'image et l'ajouter à la liste des données d'images\n",
    "    images_data.append(preprocess_image_efficientB0(img_path))\n",
    "    # Étiquettez les images \n",
    "    labels.append(3)\n",
    "\n",
    "# Conversion des données\n",
    "images_data = np.array(images_data)\n",
    "labels = np.array(labels)\n",
    "\n",
    "# Division des données en ensembles d'entraînement et de test\n",
    "x_train, x_val, y_train, y_val = train_test_split(images_data, labels, test_size=0.2, random_state=42)\n",
    "\n",
    "# One hot encoding\n",
    "num_classes = 4  # Set this to the number of classes in your dataset\n",
    "y_train = to_categorical(y_train, num_classes)\n",
    "y_val = to_categorical(y_val, num_classes)\n",
    "\n",
    "#print(y_val)"
   ]
  },
  {
   "cell_type": "code",
   "execution_count": null,
   "metadata": {
    "colab": {
     "base_uri": "https://localhost:8080/"
    },
    "executionInfo": {
     "elapsed": 3746201,
     "status": "ok",
     "timestamp": 1711062132194,
     "user": {
      "displayName": "Nikolai Ropa",
      "userId": "05198058582769450594"
     },
     "user_tz": -60
    },
    "id": "ajqgB3oW8Xqy",
    "outputId": "5e82e551-6ff5-4342-a15f-f17155a876bb"
   },
   "outputs": [],
   "source": [
    "from keras import regularizers\n",
    "from keras.regularizers import l1\n",
    "\n",
    "\n",
    "# Définition de la fonction de construction de modèle pour Keras Tuner\n",
    "# Keras Tuner: Learning rate, Couche Dense, Dropout et Droupout connect rate spécifique à EfficientNet, et learning rate pour la régularisation\n",
    "def build_model(hp):\n",
    "    # Hyperparamètres à rechercher\n",
    "    learning_rate = hp.Choice('learning_rate', values=[1e-2, 1e-3, 1e-4,1e-5])\n",
    "    units = hp.Int('units', min_value=32, max_value=512, step=32)\n",
    "    dropout_rate = hp.Float('dropout_rate', min_value=0.0, max_value=0.5, step=0.1)\n",
    "    dropout_connect_rate = hp.Float('dropout_connect_rate', min_value=0.2, max_value=0.4, step=0.1)\n",
    "    l2_lambda = hp.Choice('l2_lambda', values=[1e-3, 1e-4, 1e-5])  # Hyperparamètre pour la régularisation L2\n",
    "\n",
    "    # Chargement du modèle EfficientNetB0 pré-entraîné\n",
    "    base_model = EfficientNetB0(include_top=False, weights=\"imagenet\", drop_connect_rate=dropout_connect_rate)\n",
    "    # Dégel des dernières couches de convolution\n",
    "    for layer in base_model.layers[-20:]:\n",
    "            if not isinstance(layer, BatchNormalization):\n",
    "                layer.trainable = True\n",
    "    \n",
    "    # Ajout des couches supplémentaires\n",
    "    x = base_model.output\n",
    "    x = GlobalAveragePooling2D(name=\"avg_pool\")(x)\n",
    "    x = BatchNormalization()(x)\n",
    "    x = Dense(units, activation='relu', kernel_regularizer=l2(l2_lambda))(x)  # Utilisation de la régularisation L2\n",
    "\n",
    "    # Ajouter plusieurs couches Dropout\n",
    "    for _ in range(hp.Int('num_dropout_layers', min_value=1, max_value=5)):  # Ajoutez jusqu'à 5 couches de dropout\n",
    "        x = Dropout(dropout_rate)(x)\n",
    "    output = Dense(4, activation='softmax')(x)\n",
    "\n",
    "    # Création du modèle final\n",
    "    model = Model(inputs=base_model.input, outputs=output)\n",
    "\n",
    "    # Compilation du modèle avec les hyperparamètres\n",
    "    model.compile(optimizer=Adam(learning_rate=learning_rate),\n",
    "                  loss='categorical_crossentropy',\n",
    "                  metrics=['accuracy'])\n",
    "    return model\n",
    "\n",
    "# Early Stopping basé sur la métrique de rappel\n",
    "early_stopping = EarlyStopping(\n",
    "    monitor='recall',\n",
    "    patience=10, \n",
    "    restore_best_weights=True,  # Restaure les meilleurs poids à la fin de l'entraînement\n",
    "    mode='max'  \n",
    ")\n",
    "\n",
    "# Configuration du tuner d'hyperparamètres RandomSearch\n",
    "tuner = RandomSearch(\n",
    "    build_model,\n",
    "    objective='val_accuracy',\n",
    "    max_trials=3,\n",
    "    directory='EfficientNetB0_MC_600_Filentuned',\n",
    "    project_name='EfficientNetB0_MC_600_Filentuned_PJ'\n",
    ")\n",
    "\n",
    "tuner.search(x_train, y_train, epochs=22, validation_data=(x_val, y_val), callbacks=[early_stopping])\n"
   ]
  },
  {
   "cell_type": "code",
   "execution_count": 18,
   "metadata": {
    "executionInfo": {
     "elapsed": 741,
     "status": "ok",
     "timestamp": 1711062165264,
     "user": {
      "displayName": "Nikolai Ropa",
      "userId": "05198058582769450594"
     },
     "user_tz": -60
    },
    "id": "J8OwUfDTZ4CJ"
   },
   "outputs": [],
   "source": [
    "# Récupérer les meilleurs hyperparamètres\n",
    "best_hp = tuner.get_best_hyperparameters()[0]\n",
    "\n",
    "# Construire le modèle avec les meilleurs hyperparamètres trouvés\n",
    "best_model = tuner.hypermodel.build(best_hp)"
   ]
  },
  {
   "cell_type": "code",
   "execution_count": 19,
   "metadata": {
    "colab": {
     "base_uri": "https://localhost:8080/"
    },
    "executionInfo": {
     "elapsed": 294,
     "status": "ok",
     "timestamp": 1711062171701,
     "user": {
      "displayName": "Nikolai Ropa",
      "userId": "05198058582769450594"
     },
     "user_tz": -60
    },
    "id": "N9YW3XWdZ55f",
    "outputId": "041dd07c-7bf6-473d-fcbe-766458a2288f"
   },
   "outputs": [
    {
     "name": "stdout",
     "output_type": "stream",
     "text": [
      "{'learning_rate': 1e-05, 'units': 160, 'dropout_rate': 0.1, 'dropout_connect_rate': 0.30000000000000004, 'l2_lambda': 0.0001, 'num_dropout_layers': 3}\n"
     ]
    }
   ],
   "source": [
    "print(best_hp.values)\n"
   ]
  },
  {
   "cell_type": "code",
   "execution_count": null,
   "metadata": {
    "colab": {
     "base_uri": "https://localhost:8080/"
    },
    "executionInfo": {
     "elapsed": 3714854,
     "status": "ok",
     "timestamp": 1711065920432,
     "user": {
      "displayName": "Nikolai Ropa",
      "userId": "05198058582769450594"
     },
     "user_tz": -60
    },
    "id": "Qr94lxLaBdI6",
    "outputId": "699a449b-7bab-44b0-b275-5f6415c60f86"
   },
   "outputs": [],
   "source": [
    "# Entraîner le modèle avec les meilleurs hyperparamètres trouvés\n",
    "history = best_model.fit(x_train, y_train,\n",
    "                         epochs=22,batch_size=150,\n",
    "                         validation_data=(x_val, y_val))"
   ]
  },
  {
   "cell_type": "code",
   "execution_count": null,
   "metadata": {},
   "outputs": [],
   "source": [
    "## Metriques"
   ]
  },
  {
   "cell_type": "code",
   "execution_count": 30,
   "metadata": {
    "colab": {
     "base_uri": "https://localhost:8080/",
     "height": 927
    },
    "executionInfo": {
     "elapsed": 968,
     "status": "ok",
     "timestamp": 1711066015600,
     "user": {
      "displayName": "Nikolai Ropa",
      "userId": "05198058582769450594"
     },
     "user_tz": -60
    },
    "id": "5Uw9xzg3J24i",
    "outputId": "b450fedf-2d05-42c4-cd57-fa7af4745df4"
   },
   "outputs": [
    {
     "data": {
      "image/png": "[encoded data removed]",
      "text/plain": [
       "<Figure size 640x480 with 1 Axes>"
      ]
     },
     "metadata": {},
     "output_type": "display_data"
    },
    {
     "data": {
      "image/png": "[encoded data removed]",
      "text/plain": [
       "<Figure size 640x480 with 1 Axes>"
      ]
     },
     "metadata": {},
     "output_type": "display_data"
    }
   ],
   "source": [
    "# Afficher l'accuracy et la perte en fonction du nombre d'époques\n",
    "plt.plot(history.history['accuracy'], label='Train Accuracy')\n",
    "plt.plot(history.history['val_accuracy'], label='Validation Accuracy')\n",
    "plt.xlabel('Epochs')\n",
    "plt.ylabel('Accuracy')\n",
    "plt.title('Train and Validation Accuracy')\n",
    "plt.legend()\n",
    "plt.show()\n",
    "\n",
    "plt.plot(history.history['loss'], label='Train Loss')\n",
    "plt.plot(history.history['val_loss'], label='Validation Loss')\n",
    "plt.xlabel('Epochs')\n",
    "plt.ylabel('Loss')\n",
    "plt.title('Train and Validation Loss')\n",
    "plt.legend()\n",
    "plt.show()"
   ]
  },
  {
   "cell_type": "code",
   "execution_count": 31,
   "metadata": {
    "colab": {
     "base_uri": "https://localhost:8080/"
    },
    "executionInfo": {
     "elapsed": 987,
     "status": "ok",
     "timestamp": 1711065983709,
     "user": {
      "displayName": "Nikolai Ropa",
      "userId": "05198058582769450594"
     },
     "user_tz": -60
    },
    "id": "wjs_9FisJ3OS",
    "outputId": "333021cf-a651-4ebd-809c-9739e347c4b4"
   },
   "outputs": [
    {
     "name": "stderr",
     "output_type": "stream",
     "text": [
      "WARNING:absl:You are saving your model as an HDF5 file via `model.save()` or `keras.saving.save_model(model)`. This file format is considered legacy. We recommend using instead the native Keras format, e.g. `model.save('my_model.keras')` or `keras.saving.save_model(model, 'my_model.keras')`. \n"
     ]
    }
   ],
   "source": [
    "import pickle\n",
    "import json\n",
    "\n",
    "# Enregistrer le modèle\n",
    "best_model.save('../../data/processed/models/notebooks/EffNetB0_MC_finetuned_model.keras')\n",
    "best_model.save('../../data/processed/models/notebooks/EffNetB0_MC_finetuned_model.h5')\n",
    "\n",
    "# Enregistrer l'historique\n",
    "with open('../../data/processed/models/notebooks/EffNetB0_MC_finetuned_history.pkl', 'wb') as file:\n",
    "    pickle.dump(history.history, file)\n",
    "\n",
    "# Enregistrer les métriques dans un fichier JSON\n",
    "metrics_dict = {\n",
    "    'loss': history.history['loss'],\n",
    "    'accuracy': history.history['accuracy'],\n",
    "    'val_loss': history.history['val_loss'],\n",
    "    'val_accuracy': history.history['val_accuracy']\n",
    "}\n",
    "\n",
    "with open('../../data/processed/models/notebooks/EffNetB0_MC_finetuned_metrics.json', 'w') as json_file:\n",
    "    json.dump(metrics_dict, json_file)"
   ]
  },
  {
   "cell_type": "code",
   "execution_count": null,
   "metadata": {
    "colab": {
     "base_uri": "https://localhost:8080/"
    },
    "executionInfo": {
     "elapsed": 142746,
     "status": "ok",
     "timestamp": 1711066165736,
     "user": {
      "displayName": "Nikolai Ropa",
      "userId": "05198058582769450594"
     },
     "user_tz": -60
    },
    "id": "nSPqCjEWZ-93",
    "outputId": "e201d2f1-ccaf-4f88-b9dd-0126d8b3cb84"
   },
   "outputs": [],
   "source": [
    "from sklearn.metrics import accuracy_score\n",
    "from sklearn.metrics import confusion_matrix\n",
    "\n",
    "# Faire des prédictions sur l'ensemble de données de test\n",
    "predictions = best_model.predict(x_val)\n",
    "\n",
    "# Convertir les prédictions en classes (si c'est un problème de classification)\n",
    "predicted_classes = np.argmax(predictions, axis=1)\n",
    "y_val_classes = np.argmax(y_val, axis=1)\n",
    "# Calculer l'accuracy\n",
    "accuracy = np.mean(predicted_classes == y_val_classes)\n",
    "\n",
    "print(\"Accuracy:\", accuracy)"
   ]
  },
  {
   "cell_type": "code",
   "execution_count": null,
   "metadata": {
    "colab": {
     "base_uri": "https://localhost:8080/",
     "height": 564
    },
    "executionInfo": {
     "elapsed": 933,
     "status": "ok",
     "timestamp": 1711066259980,
     "user": {
      "displayName": "Nikolai Ropa",
      "userId": "05198058582769450594"
     },
     "user_tz": -60
    },
    "id": "5u-8FDprdrEa",
    "outputId": "eea482cd-6d2d-42b6-8518-bf81a17330ed"
   },
   "outputs": [],
   "source": [
    "from sklearn.metrics import confusion_matrix\n",
    "import seaborn as sns\n",
    "import matplotlib.pyplot as plt\n",
    "\n",
    "# Calculer la matrice de confusion\n",
    "conf_matrix = confusion_matrix(y_val_classes, predicted_classes)\n",
    "\n",
    "# Afficher la matrice de confusion sous forme de heatmap\n",
    "plt.figure(figsize=(8, 6))\n",
    "sns.heatmap(conf_matrix, annot=True, fmt=\"d\", cmap=\"Blues\", cbar=False,\n",
    "            xticklabels=['Predicted 0', 'Predicted 1'],\n",
    "            yticklabels=['Actual 0', 'Actual 1'])\n",
    "plt.xlabel('Predicted label')\n",
    "plt.ylabel('True label')\n",
    "plt.title('Confusion Matrix')\n",
    "plt.show()"
   ]
  },
  {
   "cell_type": "markdown",
   "metadata": {
    "id": "TiP2WQSXnuqI"
   },
   "source": [
    "GRAD-CAM"
   ]
  },
  {
   "cell_type": "code",
   "execution_count": null,
   "metadata": {
    "colab": {
     "base_uri": "https://localhost:8080/",
     "height": 316
    },
    "executionInfo": {
     "elapsed": 501,
     "status": "ok",
     "timestamp": 1711066331757,
     "user": {
      "displayName": "Nikolai Ropa",
      "userId": "05198058582769450594"
     },
     "user_tz": -60
    },
    "id": "XU3vW6ypiYSF",
    "outputId": "cef140cd-823b-4d8f-97e2-5be94d15d0f9"
   },
   "outputs": [],
   "source": [
    "model_builder = keras.applications.xception.Xception\n",
    "img_size = (224, 224)\n",
    "preprocess_input = keras.applications.xception.preprocess_input\n",
    "decode_predictions = keras.applications.xception.decode_predictions\n",
    "\n",
    "last_conv_layer_name = \"top_conv\"\n",
    "\n",
    "# The local path to our target image\n",
    "img_path =('../test_images/COVID-231.png')\n",
    "\n",
    "display(Image(img_path))"
   ]
  },
  {
   "cell_type": "code",
   "execution_count": 29,
   "metadata": {
    "executionInfo": {
     "elapsed": 339,
     "status": "ok",
     "timestamp": 1711066334792,
     "user": {
      "displayName": "Nikolai Ropa",
      "userId": "05198058582769450594"
     },
     "user_tz": -60
    },
    "id": "9Dg4ZKB9idAW"
   },
   "outputs": [],
   "source": [
    "def get_img_array(img_path, size):\n",
    "    # `img` is a PIL image of size 299x299\n",
    "    img = keras.utils.load_img(img_path, target_size=size)\n",
    "    # `array` is a float32 Numpy array of shape (299, 299, 3)\n",
    "    array = keras.utils.img_to_array(img)\n",
    "    # We add a dimension to transform our array into a \"batch\"\n",
    "    # of size (1, 299, 299, 3)\n",
    "    array = np.expand_dims(array, axis=0)\n",
    "    return array\n",
    "\n",
    "\n",
    "def make_gradcam_heatmap(img_array, model, last_conv_layer_name, pred_index=None):\n",
    "    # First, we create a model that maps the input image to the activations\n",
    "    # of the last conv layer as well as the output predictions\n",
    "    grad_model = keras.models.Model(\n",
    "        model.inputs, [model.get_layer(last_conv_layer_name).output, model.output]\n",
    "    )\n",
    "\n",
    "    # Then, we compute the gradient of the top predicted class for our input image\n",
    "    # with respect to the activations of the last conv layer\n",
    "    with tf.GradientTape() as tape:\n",
    "        last_conv_layer_output, preds = grad_model(img_array)\n",
    "        if pred_index is None:\n",
    "            pred_index = tf.argmax(preds[0])\n",
    "        class_channel = preds[:, pred_index]\n",
    "\n",
    "    # This is the gradient of the output neuron (top predicted or chosen)\n",
    "    # with regard to the output feature map of the last conv layer\n",
    "    grads = tape.gradient(class_channel, last_conv_layer_output)\n",
    "\n",
    "    # This is a vector where each entry is the mean intensity of the gradient\n",
    "    # over a specific feature map channel\n",
    "    pooled_grads = tf.reduce_mean(grads, axis=(0, 1, 2))\n",
    "\n",
    "    # We multiply each channel in the feature map array\n",
    "    # by \"how important this channel is\" with regard to the top predicted class\n",
    "    # then sum all the channels to obtain the heatmap class activation\n",
    "    last_conv_layer_output = last_conv_layer_output[0]\n",
    "    heatmap = last_conv_layer_output @ pooled_grads[..., tf.newaxis]\n",
    "    heatmap = tf.squeeze(heatmap)\n",
    "\n",
    "    # For visualization purpose, we will also normalize the heatmap between 0 & 1\n",
    "    heatmap = tf.maximum(heatmap, 0) / tf.math.reduce_max(heatmap)\n",
    "    return heatmap.numpy()"
   ]
  },
  {
   "cell_type": "code",
   "execution_count": null,
   "metadata": {
    "colab": {
     "base_uri": "https://localhost:8080/",
     "height": 472
    },
    "executionInfo": {
     "elapsed": 3078,
     "status": "ok",
     "timestamp": 1711066340223,
     "user": {
      "displayName": "Nikolai Ropa",
      "userId": "05198058582769450594"
     },
     "user_tz": -60
    },
    "id": "U6CCfz2gigLp",
    "outputId": "a839b8d9-a816-4605-fe3e-87559a5ec1f8"
   },
   "outputs": [],
   "source": [
    "# Prepare image\n",
    "img_array = preprocess_input(get_img_array(img_path, size=img_size))\n",
    "\n",
    "# Make model\n",
    "model = best_model\n",
    "\n",
    "# Remove last layer's softmax\n",
    "model.layers[-1].activation = None\n",
    "preds = model.predict(img_array)\n",
    "\n",
    "# Print the predicted class based on the probability\n",
    "if preds[0][0] > 0.5:\n",
    "    print(\"Predicted: Class 0\")\n",
    "else:\n",
    "    print(\"Predicted: Class 1\")\n",
    "\n",
    "# Generate class activation heatmap\n",
    "heatmap = make_gradcam_heatmap(img_array, model, last_conv_layer_name)\n",
    "\n",
    "# Display heatmap\n",
    "plt.matshow(heatmap)\n",
    "plt.show()"
   ]
  },
  {
   "cell_type": "code",
   "execution_count": null,
   "metadata": {
    "colab": {
     "base_uri": "https://localhost:8080/",
     "height": 316
    },
    "executionInfo": {
     "elapsed": 351,
     "status": "ok",
     "timestamp": 1711066343095,
     "user": {
      "displayName": "Nikolai Ropa",
      "userId": "05198058582769450594"
     },
     "user_tz": -60
    },
    "id": "-RHetfqZin9c",
    "outputId": "2629d4aa-9f2b-4c37-8e8c-c11b2ae2cd8d"
   },
   "outputs": [],
   "source": [
    "def save_and_display_gradcam(img_path, heatmap, cam_path=\"cam.jpg\", alpha=0.4):\n",
    "    # Load the original image\n",
    "    img = keras.utils.load_img(img_path)\n",
    "    img = keras.utils.img_to_array(img)\n",
    "\n",
    "    # Rescale heatmap to a range 0-255\n",
    "    heatmap = np.uint8(255 * heatmap)\n",
    "\n",
    "    # Use jet colormap to colorize heatmap\n",
    "    jet = mpl.colormaps[\"jet\"]\n",
    "\n",
    "    # Use RGB values of the colormap\n",
    "    jet_colors = jet(np.arange(256))[:, :3]\n",
    "    jet_heatmap = jet_colors[heatmap]\n",
    "\n",
    "    # Create an image with RGB colorized heatmap\n",
    "    jet_heatmap = keras.utils.array_to_img(jet_heatmap)\n",
    "    jet_heatmap = jet_heatmap.resize((img.shape[1], img.shape[0]))\n",
    "    jet_heatmap = keras.utils.img_to_array(jet_heatmap)\n",
    "\n",
    "    # Superimpose the heatmap on original image\n",
    "    superimposed_img = jet_heatmap * alpha + img\n",
    "    superimposed_img = keras.utils.array_to_img(superimposed_img)\n",
    "\n",
    "    # Save the superimposed image\n",
    "    superimposed_img.save(cam_path)\n",
    "\n",
    "    # Display Grad CAM\n",
    "    display(Image(cam_path))\n",
    "\n",
    "\n",
    "save_and_display_gradcam(img_path, heatmap)"
   ]
  }
 ],
 "metadata": {
  "colab": {
   "authorship_tag": "ABX9TyPAzjC5AB5zKAX9aXAnNdE7",
   "provenance": []
  },
  "kernelspec": {
   "display_name": "Python 3 (ipykernel)",
   "language": "python",
   "name": "python3"
  },
  "language_info": {
   "codemirror_mode": {
    "name": "ipython",
    "version": 3
   },
   "file_extension": ".py",
   "mimetype": "text/x-python",
   "name": "python",
   "nbconvert_exporter": "python",
   "pygments_lexer": "ipython3",
   "version": "3.12.2"
  }
 },
 "nbformat": 4,
 "nbformat_minor": 4
}
